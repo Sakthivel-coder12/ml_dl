{
 "cells": [
  {
   "cell_type": "code",
   "execution_count": null,
   "id": "a4f3a1a9",
   "metadata": {},
   "outputs": [],
   "source": [
    "print(\"Punda mavanee\")"
   ]
  }
 ],
 "metadata": {
  "language_info": {
   "name": "python"
  }
 },
 "nbformat": 4,
 "nbformat_minor": 5
}

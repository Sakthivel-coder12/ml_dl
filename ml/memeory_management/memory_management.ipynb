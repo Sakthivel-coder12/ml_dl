{
 "cells": [
  {
   "cell_type": "code",
   "execution_count": null,
   "id": "9ca55605",
   "metadata": {},
   "outputs": [
    {
     "name": "stdout",
     "output_type": "stream",
     "text": [
      "2\n"
     ]
    }
   ],
   "source": [
    "import sys\n",
    "a = []\n",
    "## The output is 2 because one refernece from the 'a' and the another from the getrefcount() function \n",
    "print(sys.getrefcount(a))"
   ]
  },
  {
   "cell_type": "code",
   "execution_count": 3,
   "id": "3e016a47",
   "metadata": {},
   "outputs": [
    {
     "name": "stdout",
     "output_type": "stream",
     "text": [
      "3\n",
      "2\n"
     ]
    }
   ],
   "source": [
    "b = a\n",
    "print(sys.getrefcount(a))\n",
    "\n",
    "\n",
    "del b\n",
    "print(sys.getrefcount(a))"
   ]
  },
  {
   "cell_type": "markdown",
   "id": "ab2742b5",
   "metadata": {},
   "source": [
    "## Garbage collection"
   ]
  },
  {
   "cell_type": "code",
   "execution_count": 4,
   "id": "3fdea99b",
   "metadata": {},
   "outputs": [],
   "source": [
    "import gc\n",
    "\n",
    "gc.enable()"
   ]
  },
  {
   "cell_type": "code",
   "execution_count": 5,
   "id": "e09805b2",
   "metadata": {},
   "outputs": [],
   "source": [
    "gc.disable()"
   ]
  },
  {
   "cell_type": "code",
   "execution_count": 6,
   "id": "42c03f67",
   "metadata": {},
   "outputs": [
    {
     "data": {
      "text/plain": [
       "55"
      ]
     },
     "execution_count": 6,
     "metadata": {},
     "output_type": "execute_result"
    }
   ],
   "source": [
    "gc.collect()"
   ]
  },
  {
   "cell_type": "code",
   "execution_count": 7,
   "id": "96d5df89",
   "metadata": {},
   "outputs": [
    {
     "data": {
      "text/plain": [
       "[{'collections': 175, 'collected': 1573, 'uncollectable': 0},\n",
       " {'collections': 15, 'collected': 154, 'uncollectable': 0},\n",
       " {'collections': 2, 'collected': 55, 'uncollectable': 0}]"
      ]
     },
     "execution_count": 7,
     "metadata": {},
     "output_type": "execute_result"
    }
   ],
   "source": [
    "## get garbage collections stats\n",
    "\n",
    "gc.get_stats()"
   ]
  },
  {
   "cell_type": "markdown",
   "id": "5344feac",
   "metadata": {},
   "source": [
    "## Memory management\n",
    "\n",
    " 1. Use local variables : local variable have shorter lifsapn and are freed sonner than gloabal variables.\n",
    "\n",
    " 2.Avoid ciruclar references : ciruclar references can lead to memeory leaks if not properly managed\n",
    " \n",
    " 3. Use generators : Generators produce items one at a time and only keeep one item in memeory at a time, making them memory efficient\n",
    "\n",
    " 4. Explicitly delete objects L use the del statement to delete variable and objects explicitly\n",
    "\n",
    " 5. profile memeory useage : use memeory profiling tools like tracemalloc and memeory_profiler to identify memeory leaks and optimize memeory usage."
   ]
  },
  {
   "cell_type": "code",
   "execution_count": null,
   "id": "eaee3965",
   "metadata": {},
   "outputs": [
    {
     "name": "stdout",
     "output_type": "stream",
     "text": [
      "object obj1 created\n",
      "object obj2 created\n",
      "object obj1 deleted\n",
      "object obj2 deleted\n",
      "object obj1 deleted\n",
      "object obj2 deleted\n"
     ]
    },
    {
     "data": {
      "text/plain": [
       "446"
      ]
     },
     "execution_count": 9,
     "metadata": {},
     "output_type": "execute_result"
    }
   ],
   "source": [
    "## so the above things are saying about how we can handle the garbage collection \n",
    "## Add the mention the point about the when the refernece point is \n",
    "## point to zero then object get delete to do that we need __del__  destractor\n",
    "\n",
    "## In this case we are handling the ciruclar refernece \n",
    "import gc\n",
    "\n",
    "class myobejct:\n",
    "    def __init__(self,name):\n",
    "        self.name = name\n",
    "        print(f\"object {self.name} created\")\n",
    "    def __del__(self):\n",
    "        print(f\"object {self.name} deleted\")\n",
    "\n",
    "obj1 = myobejct(\"obj1\")\n",
    "obj2 = myobejct(\"obj2\")\n",
    "obj1.ref = obj2\n",
    "obj2.ref = obj1\n",
    "\n",
    "del obj1\n",
    "del obj2  \n",
    "## Now acutally the obj1 and obj2 are deleted but not collection by the garbage collection , \n",
    "## so , we need to manually trigger the garbage collector to collect \n",
    "\n",
    "\n",
    "gc.collect()    ## Now in the output you would see that all the objects are properly deleted and collected by the garbage...!"
   ]
  },
  {
   "cell_type": "code",
   "execution_count": null,
   "id": "560a7746",
   "metadata": {},
   "outputs": [
    {
     "name": "stdout",
     "output_type": "stream",
     "text": [
      "0\n",
      "1\n",
      "2\n",
      "3\n",
      "4\n",
      "5\n",
      "6\n",
      "7\n",
      "8\n",
      "9\n",
      "10\n",
      "11\n"
     ]
    }
   ],
   "source": [
    "## Generator for memeory efficiency\n",
    "## Generator are use one item at a time , and using memory efficiently by only keeping one item in the memeory at a time \n",
    "\n",
    "\n",
    "def generate_number(n):\n",
    "    for i in range(n):\n",
    "        yield i \n",
    "for num in generate_number(100000):\n",
    "    print(num)    ## refer the Advance python concepts playlist for this \n",
    "    if num > 10:\n",
    "        break"
   ]
  },
  {
   "cell_type": "code",
   "execution_count": 16,
   "id": "9e38ae1a",
   "metadata": {},
   "outputs": [
    {
     "name": "stdout",
     "output_type": "stream",
     "text": [
      "[Top 10 memory consuming lines]\n",
      "c:\\Users\\sakth\\OneDrive\\Desktop\\ml_saga\\saga\\Lib\\selectors.py:314: size=288 KiB, count=6, average=48.0 KiB\n",
      "c:\\Users\\sakth\\OneDrive\\Desktop\\ml_saga\\saga\\Lib\\site-packages\\IPython\\core\\interactiveshell.py:3052: size=20.0 KiB, count=4, average=5130 B\n",
      "c:\\Users\\sakth\\OneDrive\\Desktop\\ml_saga\\saga\\Lib\\site-packages\\IPython\\core\\compilerop.py:86: size=12.2 KiB, count=114, average=110 B\n",
      "c:\\Users\\sakth\\OneDrive\\Desktop\\ml_saga\\saga\\Lib\\site-packages\\IPython\\core\\compilerop.py:174: size=6184 B, count=61, average=101 B\n",
      "c:\\Users\\sakth\\OneDrive\\Desktop\\ml_saga\\saga\\Lib\\tracemalloc.py:558: size=4704 B, count=98, average=48 B\n"
     ]
    }
   ],
   "source": [
    "import tracemalloc\n",
    "\n",
    "def create_list():\n",
    "    return [i for i in range(10000)]  # List with 10,000 integers\n",
    "\n",
    "def main():\n",
    "    tracemalloc.start()  # Start tracing memory allocations\n",
    "\n",
    "    create_list()        # Memory is allocated here\n",
    "\n",
    "    snapshot = tracemalloc.take_snapshot()  # Take a snapshot of current memory usage\n",
    "    top_stats = snapshot.statistics('lineno')  # Group memory usage by line number\n",
    "\n",
    "    print(\"[Top 10 memory consuming lines]\")\n",
    "\n",
    "    for stat in top_stats[:5]:\n",
    "        print(stat)\n",
    "\n",
    "main()\n"
   ]
  },
  {
   "cell_type": "code",
   "execution_count": 14,
   "id": "8a9af398",
   "metadata": {},
   "outputs": [
    {
     "name": "stdout",
     "output_type": "stream",
     "text": [
      "[Top 10 memory consuming lines]\n",
      "c:\\Users\\sakth\\OneDrive\\Desktop\\ml_saga\\saga\\Lib\\selectors.py:314: size=144 KiB, count=3, average=48.0 KiB\n",
      "c:\\Users\\sakth\\OneDrive\\Desktop\\ml_saga\\saga\\Lib\\tracemalloc.py:193: size=5520 B, count=115, average=48 B\n",
      "c:\\Users\\sakth\\OneDrive\\Desktop\\ml_saga\\saga\\Lib\\json\\decoder.py:353: size=2812 B, count=36, average=78 B\n",
      "c:\\Users\\sakth\\OneDrive\\Desktop\\ml_saga\\saga\\Lib\\threading.py:272: size=1520 B, count=4, average=380 B\n",
      "c:\\Users\\sakth\\OneDrive\\Desktop\\ml_saga\\saga\\Lib\\site-packages\\traitlets\\traitlets.py:731: size=1484 B, count=24, average=62 B\n",
      "c:\\Users\\sakth\\OneDrive\\Desktop\\ml_saga\\saga\\Lib\\site-packages\\zmq\\sugar\\attrsettr.py:45: size=1410 B, count=30, average=47 B\n",
      "c:\\Users\\sakth\\OneDrive\\Desktop\\ml_saga\\saga\\Lib\\codeop.py:118: size=1368 B, count=12, average=114 B\n",
      "c:\\Users\\sakth\\OneDrive\\Desktop\\ml_saga\\saga\\Lib\\site-packages\\IPython\\core\\interactiveshell.py:3052: size=1329 B, count=2, average=664 B\n",
      "c:\\Users\\sakth\\OneDrive\\Desktop\\ml_saga\\saga\\Lib\\site-packages\\IPython\\core\\compilerop.py:174: size=1265 B, count=15, average=84 B\n",
      "c:\\Users\\sakth\\OneDrive\\Desktop\\ml_saga\\saga\\Lib\\contextlib.py:105: size=1256 B, count=12, average=105 B\n"
     ]
    }
   ],
   "source": [
    "main()"
   ]
  }
 ],
 "metadata": {
  "kernelspec": {
   "display_name": "Python 3",
   "language": "python",
   "name": "python3"
  },
  "language_info": {
   "codemirror_mode": {
    "name": "ipython",
    "version": 3
   },
   "file_extension": ".py",
   "mimetype": "text/x-python",
   "name": "python",
   "nbconvert_exporter": "python",
   "pygments_lexer": "ipython3",
   "version": "3.12.0"
  }
 },
 "nbformat": 4,
 "nbformat_minor": 5
}

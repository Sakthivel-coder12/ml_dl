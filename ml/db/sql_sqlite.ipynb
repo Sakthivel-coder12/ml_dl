{
 "cells": [
  {
   "cell_type": "markdown",
   "id": "3e5b37c8",
   "metadata": {},
   "source": [
    "## SQLite3\n",
    "\n",
    "## Here we no need to give any predefined installation or setup ,like download the databse and connect it the IP nothing is required\n",
    "## just want to import sqlite3 and execute the command to operation in the database"
   ]
  },
  {
   "cell_type": "code",
   "execution_count": 15,
   "id": "b9417abf",
   "metadata": {},
   "outputs": [],
   "source": [
    "import sqlite3 as sq\n",
    "connection = sq.connect('example.db')\n",
    "cursor = connection.cursor()\n",
    "cursor.execute(\n",
    "    '''\n",
    "    create table if not exists employee(\n",
    "        id Integer,\n",
    "        name varchar(40),\n",
    "        phone int(10),\n",
    "        age int(3)\n",
    "    )\n",
    "'''\n",
    ")\n",
    "connection.commit()"
   ]
  },
  {
   "cell_type": "code",
   "execution_count": 8,
   "id": "20a183ac",
   "metadata": {},
   "outputs": [
    {
     "data": {
      "text/plain": [
       "<sqlite3.Cursor at 0x231c2032340>"
      ]
     },
     "execution_count": 8,
     "metadata": {},
     "output_type": "execute_result"
    }
   ],
   "source": [
    "cursor.execute(\n",
    "    '''\n",
    "    create table if not exists employee1(\n",
    "        id Integer primary key,\n",
    "        name varchar(40) not null,\n",
    "        phone int(10) unique,\n",
    "        age int(3) not null\n",
    "    )\n",
    "'''\n",
    ")"
   ]
  },
  {
   "cell_type": "code",
   "execution_count": 7,
   "id": "47b3c20f",
   "metadata": {},
   "outputs": [
    {
     "data": {
      "text/plain": [
       "<sqlite3.Cursor at 0x231c2032340>"
      ]
     },
     "execution_count": 7,
     "metadata": {},
     "output_type": "execute_result"
    }
   ],
   "source": [
    "cursor.execute(\n",
    "    '''\n",
    "    select * from employee\n",
    "'''\n",
    ")"
   ]
  },
  {
   "cell_type": "code",
   "execution_count": 14,
   "id": "65040181",
   "metadata": {},
   "outputs": [
    {
     "name": "stdout",
     "output_type": "stream",
     "text": [
      "employee\n",
      "employee1\n"
     ]
    }
   ],
   "source": [
    "cursor.execute(\"SELECT name FROM sqlite_master WHERE type='table';\")\n",
    "tables = cursor.fetchall()\n",
    "\n",
    "for table in tables:\n",
    "    print(table[0]) "
   ]
  },
  {
   "cell_type": "code",
   "execution_count": null,
   "id": "3796f46a",
   "metadata": {},
   "outputs": [
    {
     "data": {
      "text/plain": [
       "<sqlite3.Cursor at 0x231c2031940>"
      ]
     },
     "execution_count": 18,
     "metadata": {},
     "output_type": "execute_result"
    }
   ],
   "source": [
    "cursor.execute(\n",
    "    '''\n",
    "    insert into employee values(37373,'sakhivel',9090808080,19);\n",
    "'''\n",
    ")"
   ]
  },
  {
   "cell_type": "code",
   "execution_count": 19,
   "id": "2817a68b",
   "metadata": {},
   "outputs": [
    {
     "data": {
      "text/plain": [
       "<sqlite3.Cursor at 0x231c2031940>"
      ]
     },
     "execution_count": 19,
     "metadata": {},
     "output_type": "execute_result"
    }
   ],
   "source": [
    "cursor.executescript(\n",
    "    '''\n",
    "    insert into employee values(73333,'nithiya',7810029297,19);\n",
    "    insert into employee values(73345,'sam',7904601132,50);\n",
    "    insert into employee values(73367,'faizan',7200200447,50);\n",
    "'''\n",
    ")"
   ]
  },
  {
   "cell_type": "code",
   "execution_count": 24,
   "id": "956ffaf2",
   "metadata": {},
   "outputs": [
    {
     "name": "stdout",
     "output_type": "stream",
     "text": [
      "(37373, 'sakhivel', 9090808080, 19)\n",
      "(73333, 'nithiya', 7810029297, 19)\n",
      "(73345, 'sam', 7904601132, 50)\n",
      "(73367, 'faizan', 7200200447, 50)\n"
     ]
    }
   ],
   "source": [
    "cursor.execute(\n",
    "    '''\n",
    "    select * from employee;\n",
    "'''\n",
    ")\n",
    "\n",
    "rows = cursor.fetchall()   ##fetchmany will fetch one record\n",
    "for row in rows:\n",
    "    print(row)"
   ]
  },
  {
   "cell_type": "code",
   "execution_count": 31,
   "id": "f96e6eb4",
   "metadata": {},
   "outputs": [],
   "source": [
    "## update \n",
    "cursor.execute(\"update employee set age = age + 3;\")\n",
    "connection.commit()"
   ]
  },
  {
   "cell_type": "code",
   "execution_count": 32,
   "id": "33944275",
   "metadata": {},
   "outputs": [
    {
     "name": "stdout",
     "output_type": "stream",
     "text": [
      "(37373, 'sakhivel', 9090808080, 28)\n",
      "(73333, 'nithiya', 7810029297, 28)\n",
      "(73345, 'sam', 7904601132, 59)\n",
      "(73367, 'faizan', 7200200447, 59)\n"
     ]
    }
   ],
   "source": [
    "cursor.execute(\"select * from employee;\")\n",
    "rows  = cursor.fetchall()\n",
    "for row in rows:\n",
    "    print(row)"
   ]
  },
  {
   "cell_type": "code",
   "execution_count": null,
   "id": "9932cf4e",
   "metadata": {},
   "outputs": [
    {
     "name": "stdout",
     "output_type": "stream",
     "text": [
      "(0, 'id', 'INTEGER', 0, None, 0)\n",
      "(1, 'name', 'varchar(40)', 0, None, 0)\n",
      "(2, 'phone', 'int(10)', 0, None, 0)\n",
      "(3, 'age', 'int(3)', 0, None, 0)\n"
     ]
    }
   ],
   "source": [
    "cursor.execute(\"PRAGMA table_info(employee);\")\n",
    "columns = cursor.fetchall()\n",
    "\n",
    "for col in columns:\n",
    "    print(col)            ## the describe of the table \n"
   ]
  },
  {
   "cell_type": "code",
   "execution_count": 33,
   "id": "3d161104",
   "metadata": {},
   "outputs": [
    {
     "data": {
      "text/plain": [
       "<sqlite3.Cursor at 0x231c2031940>"
      ]
     },
     "execution_count": 33,
     "metadata": {},
     "output_type": "execute_result"
    }
   ],
   "source": [
    "cursor.execute(\"delete from employee where name = 'faizan'\")"
   ]
  },
  {
   "cell_type": "code",
   "execution_count": 34,
   "id": "eb56a736",
   "metadata": {},
   "outputs": [
    {
     "name": "stdout",
     "output_type": "stream",
     "text": [
      "(37373, 'sakhivel', 9090808080, 28)\n",
      "(73333, 'nithiya', 7810029297, 28)\n",
      "(73345, 'sam', 7904601132, 59)\n"
     ]
    }
   ],
   "source": [
    "cursor.execute(\"select * from employee;\")\n",
    "rows  = cursor.fetchall()\n",
    "for row in rows:\n",
    "    print(row)"
   ]
  },
  {
   "cell_type": "code",
   "execution_count": null,
   "id": "ae64e30b",
   "metadata": {},
   "outputs": [],
   "source": []
  },
  {
   "cell_type": "code",
   "execution_count": 1,
   "id": "8ae3a1d7",
   "metadata": {},
   "outputs": [
    {
     "ename": "ProgrammingError",
     "evalue": "Incorrect number of bindings supplied. The current statement uses 4, and there are 3 supplied.",
     "output_type": "error",
     "traceback": [
      "\u001b[31m---------------------------------------------------------------------------\u001b[39m",
      "\u001b[31mProgrammingError\u001b[39m                          Traceback (most recent call last)",
      "\u001b[36mCell\u001b[39m\u001b[36m \u001b[39m\u001b[32mIn[1]\u001b[39m\u001b[32m, line 24\u001b[39m\n\u001b[32m      5\u001b[39m cursor.execute(\n\u001b[32m      6\u001b[39m \u001b[38;5;250m    \u001b[39m\u001b[33;03m'''\u001b[39;00m\n\u001b[32m      7\u001b[39m \u001b[33;03m    create table sales1(\u001b[39;00m\n\u001b[32m   (...)\u001b[39m\u001b[32m     13\u001b[39m \u001b[33;03m'''\u001b[39;00m\n\u001b[32m     14\u001b[39m )\n\u001b[32m     16\u001b[39m sales_db = [\n\u001b[32m     17\u001b[39m     (\u001b[33m'\u001b[39m\u001b[33m2025-12-16\u001b[39m\u001b[33m'\u001b[39m,\u001b[32m100\u001b[39m,\u001b[33m'\u001b[39m\u001b[33mNorth\u001b[39m\u001b[33m'\u001b[39m),\n\u001b[32m     18\u001b[39m     (\u001b[33m'\u001b[39m\u001b[33m2,25-12-15\u001b[39m\u001b[33m'\u001b[39m,\u001b[32m120\u001b[39m,\u001b[33m'\u001b[39m\u001b[33mSouth\u001b[39m\u001b[33m'\u001b[39m),\n\u001b[32m   (...)\u001b[39m\u001b[32m     21\u001b[39m     (\u001b[33m'\u001b[39m\u001b[33m2024-07-09\u001b[39m\u001b[33m'\u001b[39m,\u001b[32m190\u001b[39m,\u001b[33m'\u001b[39m\u001b[33mNorth\u001b[39m\u001b[33m'\u001b[39m)\n\u001b[32m     22\u001b[39m ]\n\u001b[32m---> \u001b[39m\u001b[32m24\u001b[39m \u001b[43mcursor\u001b[49m\u001b[43m.\u001b[49m\u001b[43mexecutemany\u001b[49m\u001b[43m(\u001b[49m\u001b[33;43m\"\u001b[39;49m\u001b[33;43minsert into sales1 values(?,?,?,?);\u001b[39;49m\u001b[33;43m\"\u001b[39;49m\u001b[43m,\u001b[49m\u001b[43msales_db\u001b[49m\u001b[43m)\u001b[49m\n\u001b[32m     25\u001b[39m connection.commit()\n\u001b[32m     26\u001b[39m connection.close()\n",
      "\u001b[31mProgrammingError\u001b[39m: Incorrect number of bindings supplied. The current statement uses 4, and there are 3 supplied."
     ]
    }
   ],
   "source": [
    "import sqlite3 as sq\n",
    "connection = sq.connect('selaes_database')\n",
    "cursor = connection.cursor()\n",
    "\n",
    "cursor.execute(\n",
    "    '''\n",
    "    create table sales1(\n",
    "    id Integer primary key,\n",
    "    date date,\n",
    "    sales Integer,\n",
    "    region text\n",
    "    )\n",
    "'''\n",
    ")\n",
    "\n",
    "sales_db = [\n",
    "    ('2025-12-16',100,'North'),\n",
    "    ('2,25-12-15',120,'South'),\n",
    "    ('2,025-12-11',130,'East'),\n",
    "    ('2025-12-10',140,'west'),\n",
    "    ('2024-07-09',190,'North')\n",
    "]\n",
    "\n",
    "cursor.executemany(\"insert into sales1 values(?,?,?,?);\",sales_db)\n",
    "connection.commit()\n",
    "connection.close()\n"
   ]
  },
  {
   "cell_type": "code",
   "execution_count": 53,
   "id": "8b4a7b31",
   "metadata": {},
   "outputs": [
    {
     "ename": "OperationalError",
     "evalue": "database is locked",
     "output_type": "error",
     "traceback": [
      "\u001b[31m---------------------------------------------------------------------------\u001b[39m",
      "\u001b[31mOperationalError\u001b[39m                          Traceback (most recent call last)",
      "\u001b[36mCell\u001b[39m\u001b[36m \u001b[39m\u001b[32mIn[53]\u001b[39m\u001b[32m, line 6\u001b[39m\n\u001b[32m      3\u001b[39m connection = sq.connect(\u001b[33m'\u001b[39m\u001b[33mselaes_database\u001b[39m\u001b[33m'\u001b[39m)  \u001b[38;5;66;03m# or 'sales_database' if that's the correct name\u001b[39;00m\n\u001b[32m      4\u001b[39m cursor = connection.cursor()\n\u001b[32m----> \u001b[39m\u001b[32m6\u001b[39m \u001b[43mcursor\u001b[49m\u001b[43m.\u001b[49m\u001b[43mexecute\u001b[49m\u001b[43m(\u001b[49m\u001b[33;43m\"\u001b[39;49m\u001b[33;43mDROP TABLE IF EXISTS sales;\u001b[39;49m\u001b[33;43m\"\u001b[39;49m\u001b[43m)\u001b[49m  \u001b[38;5;66;03m# Safe: won’t raise error if table doesn't exist\u001b[39;00m\n\u001b[32m      8\u001b[39m connection.commit()\n\u001b[32m      9\u001b[39m connection.close()\n",
      "\u001b[31mOperationalError\u001b[39m: database is locked"
     ]
    }
   ],
   "source": [
    "import sqlite3 as sq\n",
    "\n",
    "connection = sq.connect('selaes_database')  # or 'sales_database' if that's the correct name\n",
    "cursor = connection.cursor()\n",
    "\n",
    "cursor.execute(\"DROP TABLE IF EXISTS sales;\")  # Safe: won’t raise error if table doesn't exist\n",
    "\n",
    "connection.commit()\n",
    "connection.close()\n"
   ]
  },
  {
   "cell_type": "code",
   "execution_count": 55,
   "id": "4de23e49",
   "metadata": {},
   "outputs": [
    {
     "name": "stdout",
     "output_type": "stream",
     "text": [
      "File is locked by another process. Try closing all scripts or restart your system.\n"
     ]
    }
   ],
   "source": [
    "import os\n",
    "\n",
    "# Path to your SQLite DB file\n",
    "db_file = 'selaes_database'  # Add .db if it has that extension\n",
    "\n",
    "# Try to close all potential connections first\n",
    "try:\n",
    "    import sqlite3\n",
    "    sqlite3.connect(db_file).close()\n",
    "except Exception:\n",
    "    pass  # Ignore if already locked\n",
    "\n",
    "# Now force delete\n",
    "try:\n",
    "    os.remove(db_file)\n",
    "    print(\"Database deleted successfully.\")\n",
    "except PermissionError:\n",
    "    print(\"File is locked by another process. Try closing all scripts or restart your system.\")\n",
    "except FileNotFoundError:\n",
    "    print(\"File not found.\")\n"
   ]
  },
  {
   "cell_type": "code",
   "execution_count": 4,
   "id": "a0c22943",
   "metadata": {},
   "outputs": [],
   "source": [
    "import sqlite3 as sq\n",
    "connection = sq.connect('test.db')\n",
    "\n",
    "cursor = connection.cursor()\n",
    "\n",
    "cursor.execute(\n",
    "    '''create table if not exists employees(\n",
    "    id Integer,\n",
    "    name text,\n",
    "    age Integer,\n",
    "    department text  \n",
    ")'''\n",
    ")\n",
    "connection.commit()\n",
    "connection.close()"
   ]
  },
  {
   "cell_type": "code",
   "execution_count": 6,
   "id": "9efb3067",
   "metadata": {},
   "outputs": [],
   "source": [
    "import sqlite3 as sq\n",
    "connection = sq.connect('test.db')\n",
    "\n",
    "cursor = connection.cursor()"
   ]
  },
  {
   "cell_type": "code",
   "execution_count": 8,
   "id": "e2a9d25a",
   "metadata": {},
   "outputs": [
    {
     "data": {
      "text/plain": [
       "<sqlite3.Cursor at 0x216e773cbc0>"
      ]
     },
     "execution_count": 8,
     "metadata": {},
     "output_type": "execute_result"
    }
   ],
   "source": [
    "cursor.execute(\"insert into employees values(2373,'sakthivel',82,'IT')\")"
   ]
  },
  {
   "cell_type": "code",
   "execution_count": 10,
   "id": "2f233fa8",
   "metadata": {},
   "outputs": [
    {
     "data": {
      "text/plain": [
       "<sqlite3.Cursor at 0x216e773cbc0>"
      ]
     },
     "execution_count": 10,
     "metadata": {},
     "output_type": "execute_result"
    }
   ],
   "source": [
    "employee = [\n",
    "    (2374,'nithiya',19,'IT'),\n",
    "    (23838,'sam',90,'Database'),\n",
    "    (7373,'faizan',92,'full_stack')\n",
    "]\n",
    "cursor.executemany(\"insert into employees values(?,?,?,?) \",employee)"
   ]
  },
  {
   "cell_type": "code",
   "execution_count": 12,
   "id": "5293ac20",
   "metadata": {},
   "outputs": [
    {
     "name": "stdout",
     "output_type": "stream",
     "text": [
      "(2373, 'sakthivel', 82, 'IT')\n",
      "(2374, 'nithiya', 19, 'IT')\n",
      "(23838, 'sam', 90, 'Database')\n",
      "(7373, 'faizan', 92, 'full_stack')\n"
     ]
    }
   ],
   "source": [
    "rows =   cursor.execute(\"select * from employees\")\n",
    "for row in rows:\n",
    "    print(row)\n",
    "    "
   ]
  },
  {
   "cell_type": "code",
   "execution_count": 14,
   "id": "aa44a37d",
   "metadata": {},
   "outputs": [
    {
     "name": "stdout",
     "output_type": "stream",
     "text": [
      "(2373, 'sakthivel', 82, 'IT')\n",
      "(2374, 'nithiya', 19, 'IT')\n",
      "(23838, 'sam', 90, 'Database')\n",
      "(7373, 'faizan', 92, 'full_stack')\n"
     ]
    }
   ],
   "source": [
    "row = cursor.execute(\"select * from employees\")\n",
    "rows = cursor.fetchall()\n",
    "for row in rows:\n",
    "    print(row)"
   ]
  },
  {
   "cell_type": "code",
   "execution_count": 24,
   "id": "33db4d65",
   "metadata": {},
   "outputs": [
    {
     "data": {
      "text/plain": [
       "<sqlite3.Cursor at 0x216e773cbc0>"
      ]
     },
     "execution_count": 24,
     "metadata": {},
     "output_type": "execute_result"
    }
   ],
   "source": [
    "cursor.execute(\"update employees set department = 'AI and ML' where id in (2373,2374);\")"
   ]
  },
  {
   "cell_type": "code",
   "execution_count": 29,
   "id": "cf92237c",
   "metadata": {},
   "outputs": [
    {
     "name": "stdout",
     "output_type": "stream",
     "text": [
      "(2373, 'sakthivel', 82, 'AI and ML')\n",
      "(2374, 'nithiya', 19, 'AI and ML')\n",
      "(23838, 'sam', 90, 'Database')\n",
      "(7373, 'faizan', 92, 'full_stack')\n"
     ]
    }
   ],
   "source": [
    "row = cursor.execute(\"select * from employees\")\n",
    "rows = cursor.fetchall()\n",
    "for row in rows:\n",
    "    print(row)"
   ]
  },
  {
   "cell_type": "code",
   "execution_count": null,
   "id": "75b5dbf0",
   "metadata": {},
   "outputs": [
    {
     "name": "stdout",
     "output_type": "stream",
     "text": [
      "Insertion failed. Transaction rolled back.\n",
      "Error: database is locked\n"
     ]
    }
   ],
   "source": [
    "import sqlite3 as sq\n",
    "\n",
    "def insert_multiple_employees(employee_list):\n",
    "    \"\"\"\n",
    "    Inserts multiple employee records into the 'employees' table.\n",
    "    Rolls back the entire transaction if any insert fails.\n",
    "    \n",
    "    Parameters:\n",
    "        employee_list (list of tuples): Each tuple contains (id, name, age, department)\n",
    "    \"\"\"\n",
    "    connection = sq.connect('test.db')\n",
    "    cursor = connection.cursor()\n",
    "\n",
    "    try:\n",
    "        cursor.executemany(\n",
    "            \"INSERT INTO employees (id, name, age, department) VALUES (?, ?, ?, ?);\",\n",
    "            employee_list\n",
    "        )\n",
    "        connection.commit()\n",
    "        print(\"All employee records inserted successfully.\")\n",
    "    except Exception as e:\n",
    "        connection.rollback()\n",
    "        print(\"Insertion failed. Transaction rolled back.\")\n",
    "        print(\"Error:\", e)\n",
    "    finally:\n",
    "        connection.close()\n",
    "\n",
    "employees = [\n",
    "    (1001, \"Alice\", 28, \"HR\"),\n",
    "    (1002, \"Bob\", 35, \"Engineering\"),\n",
    "    (1003, \"Charlie\", 30, \"Marketing\")\n",
    "]\n",
    "\n",
    "insert_multiple_employees(employees)\n",
    "\n"
   ]
  },
  {
   "cell_type": "code",
   "execution_count": 27,
   "id": "a6fc59b2",
   "metadata": {},
   "outputs": [
    {
     "name": "stdout",
     "output_type": "stream",
     "text": [
      "(2373, 'sakthivel', 82, 'AI and ML')\n",
      "(2374, 'nithiya', 19, 'AI and ML')\n",
      "(23838, 'sam', 90, 'Database')\n",
      "(7373, 'faizan', 92, 'full_stack')\n"
     ]
    }
   ],
   "source": [
    "row = cursor.execute(\"select * from employees\")\n",
    "rows = cursor.fetchall()\n",
    "for row in rows:\n",
    "    print(row)"
   ]
  },
  {
   "cell_type": "code",
   "execution_count": 33,
   "id": "43a718d7",
   "metadata": {},
   "outputs": [
    {
     "name": "stdout",
     "output_type": "stream",
     "text": [
      "Update failed. Transaction rolled back.\n",
      "Error: database is locked\n"
     ]
    }
   ],
   "source": [
    "def update_multiple_ages(age_updates):\n",
    "    \"\"\"\n",
    "    Updates age for multiple employees.\n",
    "    Rolls back the transaction if any update fails.\n",
    "    \n",
    "    Parameters:\n",
    "        age_updates (list of tuples): Each tuple contains (new_age, employee_id)\n",
    "    \"\"\"\n",
    "    connection = sq.connect('test.db')\n",
    "    cursor = connection.cursor()\n",
    "\n",
    "    try:\n",
    "        cursor.executemany(\n",
    "            \"UPDATE employees SET age = ? WHERE id = ?;\",\n",
    "            age_updates\n",
    "        )\n",
    "        connection.commit()\n",
    "        print(\"All ages updated successfully.\")\n",
    "    except Exception as e:\n",
    "        connection.rollback()\n",
    "        print(\"Update failed. Transaction rolled back.\")\n",
    "        print(\"Error:\", e)\n",
    "    finally:\n",
    "        connection.close()\n",
    "age_changes = [\n",
    "    (29, 1001),\n",
    "    (36, 1002),\n",
    "    (31, 1003)\n",
    "]\n",
    "\n",
    "update_multiple_ages(age_changes)\n",
    "\n"
   ]
  },
  {
   "cell_type": "code",
   "execution_count": null,
   "id": "c4d52007",
   "metadata": {},
   "outputs": [],
   "source": [
    "import sqlite3 as sq\n",
    "\n",
    "connection = sq.connect('department.db')\n",
    "\n"
   ]
  },
  {
   "cell_type": "code",
   "execution_count": 35,
   "id": "3fafd00f",
   "metadata": {},
   "outputs": [],
   "source": [
    "import sqlite3 as sq\n",
    "connection = sq.connect('test1.db')\n",
    "\n",
    "cursor = connection.cursor()\n",
    "\n",
    "cursor.execute(\n",
    "    '''create table if not exists employees(\n",
    "    id Integer,\n",
    "    name text,\n",
    "    age Integer,\n",
    "    department text  \n",
    ")'''\n",
    ")\n",
    "connection.commit()\n",
    "connection.close()"
   ]
  },
  {
   "cell_type": "code",
   "execution_count": 36,
   "id": "bda56f9d",
   "metadata": {},
   "outputs": [
    {
     "name": "stdout",
     "output_type": "stream",
     "text": [
      "All employee records inserted successfully.\n"
     ]
    }
   ],
   "source": [
    "import sqlite3 as sq\n",
    "\n",
    "def insert_multiple_employees(employee_list):\n",
    "    \"\"\"\n",
    "    Inserts multiple employee records into the 'employees' table.\n",
    "    Rolls back the entire transaction if any insert fails.\n",
    "    \n",
    "    Parameters:\n",
    "        employee_list (list of tuples): Each tuple contains (id, name, age, department)\n",
    "    \"\"\"\n",
    "    connection = sq.connect('test1.db')\n",
    "    cursor = connection.cursor()\n",
    "\n",
    "    try:\n",
    "        cursor.executemany(\n",
    "            \"INSERT INTO employees (id, name, age, department) VALUES (?, ?, ?, ?);\",\n",
    "            employee_list\n",
    "        )\n",
    "        connection.commit()\n",
    "        print(\"All employee records inserted successfully.\")\n",
    "    except Exception as e:\n",
    "        connection.rollback()\n",
    "        print(\"Insertion failed. Transaction rolled back.\")\n",
    "        print(\"Error:\", e)\n",
    "    finally:\n",
    "        connection.close()\n",
    "\n",
    "employees = [\n",
    "    (1001, \"Alice\", 28, \"HR\"),\n",
    "    (1002, \"Bob\", 35, \"Engineering\"),\n",
    "    (1003, \"Charlie\", 30, \"Marketing\")\n",
    "]\n",
    "\n",
    "insert_multiple_employees(employees)\n",
    "\n"
   ]
  },
  {
   "cell_type": "code",
   "execution_count": 38,
   "id": "76f5b813",
   "metadata": {},
   "outputs": [
    {
     "data": {
      "text/plain": [
       "<sqlite3.Cursor at 0x216e75a7840>"
      ]
     },
     "execution_count": 38,
     "metadata": {},
     "output_type": "execute_result"
    }
   ],
   "source": [
    "import sqlite3 as sq\n",
    "connection = sq.connect('test1.db')\n",
    "cursor = connection.cursor()\n",
    "\n",
    "\n",
    "employee = [\n",
    "    (2374,'nithiya',19,'IT'),\n",
    "    (23838,'sam',90,'Database'),\n",
    "    (7373,'faizan',92,'full_stack')\n",
    "]\n",
    "cursor.executemany(\"insert into employees values(?,?,?,?) \",employee)"
   ]
  },
  {
   "cell_type": "code",
   "execution_count": 40,
   "id": "38ffb199",
   "metadata": {},
   "outputs": [
    {
     "name": "stdout",
     "output_type": "stream",
     "text": [
      "(1001, 'Alice', 28, 'HR')\n",
      "(1002, 'Bob', 35, 'Engineering')\n",
      "(1003, 'Charlie', 30, 'Marketing')\n",
      "(2374, 'nithiya', 19, 'IT')\n",
      "(23838, 'sam', 90, 'Database')\n",
      "(7373, 'faizan', 92, 'full_stack')\n"
     ]
    }
   ],
   "source": [
    "cursor.execute(\"select * from employees\")\n",
    "rows = cursor.fetchall()\n",
    "for i in rows:\n",
    "    print(i)\n",
    "connection.commit()\n",
    "connection.close()"
   ]
  },
  {
   "cell_type": "code",
   "execution_count": 46,
   "id": "a5d07480",
   "metadata": {},
   "outputs": [],
   "source": [
    "import sqlite3 as sq\n",
    "connection = sq.connect('test1.db')\n",
    "\n",
    "cursor = connection.cursor()\n",
    "cursor.execute(\n",
    "    '''create table if not exists department(\n",
    "        id integer primary key,\n",
    "        name text\n",
    "    )'''\n",
    ")\n",
    "connection.commit()\n",
    "connection.close()"
   ]
  },
  {
   "cell_type": "code",
   "execution_count": 45,
   "id": "c92d2713",
   "metadata": {},
   "outputs": [
    {
     "data": {
      "text/plain": [
       "<sqlite3.Cursor at 0x216e78f2040>"
      ]
     },
     "execution_count": 45,
     "metadata": {},
     "output_type": "execute_result"
    }
   ],
   "source": [
    "import sqlite3 as sq\n",
    "connection = sq.connect('test1.db')\n",
    "\n",
    "cursor = connection.cursor()\n",
    "cursor.execute(\"drop table department\")"
   ]
  },
  {
   "cell_type": "code",
   "execution_count": null,
   "id": "a35e6ea8",
   "metadata": {},
   "outputs": [],
   "source": [
    "import sqlite3 as sq\n",
    "connection = sq.connect('test1.db')\n",
    "cursor =  connection.cursor()\n",
    "\n",
    "cursor.execute(\"update employees add foreign key as fk_id\")"
   ]
  },
  {
   "cell_type": "code",
   "execution_count": 47,
   "id": "e53b6eb5",
   "metadata": {},
   "outputs": [
    {
     "data": {
      "text/plain": [
       "<sqlite3.Cursor at 0x216e7a3f6c0>"
      ]
     },
     "execution_count": 47,
     "metadata": {},
     "output_type": "execute_result"
    }
   ],
   "source": [
    "import sqlite3 as sq\n",
    "connection = sq.connect('test1.db')\n",
    "cursor =  connection.cursor()\n",
    "\n",
    "\n",
    "cursor.execute(\"ALTER TABLE employees ADD COLUMN fk_id INTEGER;\")"
   ]
  },
  {
   "cell_type": "code",
   "execution_count": 3,
   "id": "e4c1e505",
   "metadata": {},
   "outputs": [
    {
     "name": "stdout",
     "output_type": "stream",
     "text": [
      "(1001, 'Alice', 28, 'HR', None)\n",
      "(1002, 'Bob', 35, 'Engineering', None)\n",
      "(1003, 'Charlie', 30, 'Marketing', None)\n",
      "(2374, 'nithiya', 19, 'IT', None)\n",
      "(23838, 'sam', 90, 'Database', None)\n",
      "(7373, 'faizan', 92, 'full_stack', None)\n"
     ]
    }
   ],
   "source": [
    "import sqlite3 as sq\n",
    "connection = sq.connect('test1.db')\n",
    "cursor =  connection.cursor()\n",
    "cursor.execute(\"select * from employees\")\n",
    "rows = cursor.fetchall()\n",
    "for row in rows:\n",
    "    print(row)"
   ]
  },
  {
   "cell_type": "code",
   "execution_count": 28,
   "id": "574bce91",
   "metadata": {},
   "outputs": [
    {
     "data": {
      "text/plain": [
       "<sqlite3.Cursor at 0x1f29595aa40>"
      ]
     },
     "execution_count": 28,
     "metadata": {},
     "output_type": "execute_result"
    }
   ],
   "source": [
    "cursor.execute(\"create INDEX name_idx on employees(name)\")"
   ]
  },
  {
   "cell_type": "code",
   "execution_count": 16,
   "id": "bab8861b",
   "metadata": {},
   "outputs": [
    {
     "data": {
      "text/plain": [
       "<sqlite3.Cursor at 0x1f29595aa40>"
      ]
     },
     "execution_count": 16,
     "metadata": {},
     "output_type": "execute_result"
    }
   ],
   "source": [
    "cursor.execute(\"Drop INDEX if exists name_idx\")"
   ]
  },
  {
   "cell_type": "code",
   "execution_count": null,
   "id": "db36c88a",
   "metadata": {},
   "outputs": [],
   "source": [
    "import sqlite3\n",
    "import time\n",
    "\n",
    "def fetch_employees_by_letter(letter, with_index=True):\n",
    "    # Connect to SQLite database\n",
    "    conn = sqlite3.connect(\"test1.db\")  # Replace with your database name\n",
    "    cursor = conn.cursor()\n",
    "\n",
    "    # # Create table and sample data if needed\n",
    "    # cursor.execute(\"\"\"\n",
    "    #     CREATE TABLE IF NOT EXISTS employees (\n",
    "    #         id INTEGER PRIMARY KEY,\n",
    "    #         name TEXT,\n",
    "    #         age INTEGER,\n",
    "    #         department TEXT\n",
    "    #     )\n",
    "    # \"\"\")\n",
    "\n",
    "    # Optional: Insert dummy data (run once)\n",
    "    # for i in range(1, 10001):\n",
    "    #     cursor.execute(\"INSERT INTO employees (name, age, department) VALUES (?, ?, ?)\",\n",
    "    #                    (f\"Name{i}\", 20 + i % 30, f\"Dept{i % 5}\"))\n",
    "    # conn.commit()\n",
    "\n",
    "    # Create or drop index based on flag\n",
    "    if with_index:\n",
    "        cursor.execute(\"CREATE INDEX IF NOT EXISTS idx_name ON employees(name)\")\n",
    "    else:\n",
    "        cursor.execute(\"DROP INDEX IF EXISTS idx_name\")\n",
    "\n",
    "    conn.commit()\n",
    "\n",
    "    # Perform query and measure time\n",
    "    start = time.time()\n",
    "    cursor.execute(\"SELECT * FROM employees WHERE name LIKE ?\", (letter + '%',))\n",
    "    results = cursor.fetchall()\n",
    "    end = time.time()\n",
    "\n",
    "    print(f\"\\n{'With' if with_index else 'Without'} index - Time taken: {end - start:.6f} seconds\")\n",
    "    print(f\"Found {len(results)} result(s) starting with '{letter}'\")\n",
    "\n",
    "    # Optional: print a few results\n",
    "    for row in results:\n",
    "        print(row)\n",
    "\n",
    "    cursor.close()\n",
    "    conn.close()\n"
   ]
  },
  {
   "cell_type": "code",
   "execution_count": 29,
   "id": "c98c1bd5",
   "metadata": {},
   "outputs": [
    {
     "name": "stdout",
     "output_type": "stream",
     "text": [
      "(2374, 'nithiya', 19, 'IT', None)\n",
      "0.000798\n"
     ]
    }
   ],
   "source": [
    "import time as t\n",
    "start = t.time()\n",
    "cursor.execute(\"select * from employees where name like ?\",('n'+ '%',))\n",
    "rows = cursor.fetchall()\n",
    "for row in rows:\n",
    "    print(row)\n",
    "end = t.time()\n",
    "\n",
    "print(f\"{end - start:.6f}\")\n"
   ]
  },
  {
   "cell_type": "code",
   "execution_count": null,
   "id": "e5327962",
   "metadata": {},
   "outputs": [
    {
     "name": "stdout",
     "output_type": "stream",
     "text": [
      "(2374, 'nithiya', 19, 'IT', None)\n",
      "0.000845\n"
     ]
    }
   ],
   "source": [
    "import time as t\n",
    "start = t.time()\n",
    "cursor.execute(\"select * from employees where name like ?\",('n'+ '%',))\n",
    "rows = cursor.fetchall()\n",
    "for row in rows:\n",
    "    print(row)\n",
    "end = t.time()\n",
    "\n",
    "\n",
    "print(f\"{end - start:.6f}\")\n"
   ]
  },
  {
   "cell_type": "code",
   "execution_count": 33,
   "id": "1b01eb52",
   "metadata": {},
   "outputs": [],
   "source": [
    "import sqlite3\n",
    "import shutil\n",
    "\n",
    "original = \"test.db\"\n",
    "backup = \"backup.db\"\n",
    "\n",
    "try:\n",
    "    shutil.copyfile(original,backup)\n",
    "except Exception as e:\n",
    "    print(e)"
   ]
  },
  {
   "cell_type": "code",
   "execution_count": 35,
   "id": "5fb9f153",
   "metadata": {},
   "outputs": [],
   "source": [
    "import shutil\n",
    "\n",
    "def restore_database():\n",
    "    try:\n",
    "        backup_db = 'backup.db'\n",
    "        restored_db = 'test.db'\n",
    "        \n",
    "        # Overwrite test.db with backup.db\n",
    "        shutil.copyfile(backup_db, restored_db)\n",
    "        print(f\"✅ Restore completed: '{backup_db}' → '{restored_db}'\")\n",
    "        \n",
    "    except Exception as e:\n",
    "        print(\"❌ Error during restore:\", e)\n"
   ]
  }
 ],
 "metadata": {
  "kernelspec": {
   "display_name": "Python 3",
   "language": "python",
   "name": "python3"
  },
  "language_info": {
   "codemirror_mode": {
    "name": "ipython",
    "version": 3
   },
   "file_extension": ".py",
   "mimetype": "text/x-python",
   "name": "python",
   "nbconvert_exporter": "python",
   "pygments_lexer": "ipython3",
   "version": "3.12.0"
  }
 },
 "nbformat": 4,
 "nbformat_minor": 5
}

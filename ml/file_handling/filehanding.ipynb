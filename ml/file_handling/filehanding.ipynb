{
 "cells": [
  {
   "cell_type": "code",
   "execution_count": 17,
   "id": "3b044af9",
   "metadata": {},
   "outputs": [],
   "source": [
    "with open('saga.txt','w') as file:    ## it's overwritting the content in the file\n",
    "    file.write('Sakthivel is good boy...!!!')"
   ]
  },
  {
   "cell_type": "code",
   "execution_count": null,
   "id": "bd9f72f4",
   "metadata": {},
   "outputs": [],
   "source": [
    "with open('saga.txt','a') as file:    #it's append the new content with old content  (a --> append mode)\n",
    "    file.write('\\nSakthivel is good boy...!!!')       # append and read mode a+\n"
   ]
  },
  {
   "cell_type": "code",
   "execution_count": 5,
   "id": "5eb8d4c5",
   "metadata": {},
   "outputs": [
    {
     "name": "stdout",
     "output_type": "stream",
     "text": [
      "Sakthivel is good boy...!!!\n",
      "Sakthivel is good boy...!!!\n",
      "Sakthivel is good boy...!!!\n",
      "Sakthivel is good boy...!!!\n"
     ]
    }
   ],
   "source": [
    "with open('saga.txt','r') as n:\n",
    "    read = n.read()\n",
    "    print(read)"
   ]
  },
  {
   "cell_type": "code",
   "execution_count": 13,
   "id": "9ca02202",
   "metadata": {},
   "outputs": [
    {
     "name": "stdout",
     "output_type": "stream",
     "text": [
      "18\n"
     ]
    }
   ],
   "source": [
    "\n",
    "with open('saga.txt','r') as n:\n",
    "    count = 0\n",
    "    for line in n:\n",
    "        for word in line.strip().split():\n",
    "            for char in word:\n",
    "                count += 1\n",
    "print(count)"
   ]
  },
  {
   "cell_type": "code",
   "execution_count": 20,
   "id": "ac4c4cb3",
   "metadata": {},
   "outputs": [
    {
     "name": "stdout",
     "output_type": "stream",
     "text": [
      "Sakthivel is good boy...!!!\n",
      "Sakthivel is good boy...!!!\n",
      "Sakthivel is good boy...!!!faizan is bad boy\n"
     ]
    }
   ],
   "source": [
    "with open('saga.txt','a+') as n:\n",
    "    n.write(\"faizan is bad boy\")\n",
    "    n.seek(0)\n",
    "    for line in n:\n",
    "        print(line.strip())"
   ]
  },
  {
   "cell_type": "code",
   "execution_count": 24,
   "id": "342fdac9",
   "metadata": {},
   "outputs": [],
   "source": [
    "### write multiples lines\n",
    "\n",
    "lines = [\"sakthivel\",\"\\n saga\"]\n",
    "with open('sak.txt','w') as f:\n",
    "    f.writelines(lines)"
   ]
  },
  {
   "cell_type": "code",
   "execution_count": 25,
   "id": "d6114d04",
   "metadata": {},
   "outputs": [],
   "source": [
    "## binary files \n",
    "data = b'\\x00\\x01\\x02\\x03\\x04'\n",
    "with open('saga.bin','wb') as file:\n",
    "    file.write(data)"
   ]
  },
  {
   "cell_type": "code",
   "execution_count": 28,
   "id": "abeb42a4",
   "metadata": {},
   "outputs": [
    {
     "name": "stdout",
     "output_type": "stream",
     "text": [
      "b'\\x00\\x01\\x02\\x03\\x04'\n"
     ]
    }
   ],
   "source": [
    "with open('saga.bin','rb') as file:\n",
    "    read  = file.read()\n",
    "    print(read)"
   ]
  },
  {
   "cell_type": "code",
   "execution_count": 29,
   "id": "a79d2192",
   "metadata": {},
   "outputs": [
    {
     "name": "stdout",
     "output_type": "stream",
     "text": [
      "Sakthivel is good boy...!!!\n",
      "Sakthivel is good boy...!!!\n",
      "Sakthivel is good boy...!!!faizan is bad boy\n"
     ]
    }
   ],
   "source": [
    "with open('saga.txt','r') as n:\n",
    "    data = n.read()\n",
    "    print(data)\n",
    "\n",
    "with open('saga1.txt','w') as n:\n",
    "    n.write(data)"
   ]
  },
  {
   "cell_type": "code",
   "execution_count": null,
   "id": "495b7707",
   "metadata": {},
   "outputs": [
    {
     "data": {
      "text/plain": [
       "'sak`.txt'"
      ]
     },
     "execution_count": 31,
     "metadata": {},
     "output_type": "execute_result"
    }
   ],
   "source": [
    "## we can do the above with another way also , to copy and paste\n",
    "## it will not append it just over wirte \n",
    "## destination file is not exists then it create the file and copy the content\n",
    "import shutil as s\n",
    "s.copy('saga1.txt','sak.txt')"
   ]
  },
  {
   "cell_type": "code",
   "execution_count": 50,
   "id": "7cc0585e",
   "metadata": {},
   "outputs": [
    {
     "name": "stdout",
     "output_type": "stream",
     "text": [
      "3 12 71\n"
     ]
    }
   ],
   "source": [
    "def count(filepath):\n",
    "    with open(filepath,mode = 'r') as f:\n",
    "        read = f.readlines()\n",
    "        rc = len(read)\n",
    "        word = sum(len(x.split()) for x in read)\n",
    "        char = sum(len(x) for x in read)\n",
    "        print(rc,word,char)\n",
    "count('saga.txt')"
   ]
  },
  {
   "cell_type": "code",
   "execution_count": 1,
   "id": "566f1172",
   "metadata": {},
   "outputs": [
    {
     "name": "stdout",
     "output_type": "stream",
     "text": [
      "sakthivel is good boy\n",
      "sakthivel is intelligent boy\n",
      "nisaga are best\n"
     ]
    }
   ],
   "source": [
    "with open('saga.txt','w+') as f:\n",
    "    f.write('sakthivel is good boy')\n",
    "    f.write('\\nsakthivel is intelligent boy')\n",
    "    f.write('\\nnisaga are best')   #  so now the cursor is also it the thrid line if we try to read immediatly after this line then it will not print anything so, we need to go to the first line that is zero index\n",
    "    f.seek(0)    # go to the 0-index first index\n",
    "    r = f.read()\n",
    "    print(r)\n"
   ]
  }
 ],
 "metadata": {
  "kernelspec": {
   "display_name": "Python 3",
   "language": "python",
   "name": "python3"
  },
  "language_info": {
   "codemirror_mode": {
    "name": "ipython",
    "version": 3
   },
   "file_extension": ".py",
   "mimetype": "text/x-python",
   "name": "python",
   "nbconvert_exporter": "python",
   "pygments_lexer": "ipython3",
   "version": "3.12.0"
  }
 },
 "nbformat": 4,
 "nbformat_minor": 5
}

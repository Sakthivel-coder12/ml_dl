{
 "cells": [
  {
   "cell_type": "code",
   "execution_count": 1,
   "id": "f203c6c5",
   "metadata": {},
   "outputs": [
    {
     "ename": "NameError",
     "evalue": "name 'b' is not defined",
     "output_type": "error",
     "traceback": [
      "\u001b[31m---------------------------------------------------------------------------\u001b[39m",
      "\u001b[31mNameError\u001b[39m                                 Traceback (most recent call last)",
      "\u001b[36mCell\u001b[39m\u001b[36m \u001b[39m\u001b[32mIn[1]\u001b[39m\u001b[32m, line 1\u001b[39m\n\u001b[32m----> \u001b[39m\u001b[32m1\u001b[39m a = \u001b[43mb\u001b[49m\n",
      "\u001b[31mNameError\u001b[39m: name 'b' is not defined"
     ]
    }
   ],
   "source": [
    "a = b"
   ]
  },
  {
   "cell_type": "code",
   "execution_count": 2,
   "id": "dbc768d9",
   "metadata": {},
   "outputs": [
    {
     "name": "stdout",
     "output_type": "stream",
     "text": [
      "The variable is not defined\n"
     ]
    }
   ],
   "source": [
    "try:\n",
    "    a = b\n",
    "except:\n",
    "    print(\"The variable is not defined\")"
   ]
  },
  {
   "cell_type": "code",
   "execution_count": 3,
   "id": "922b333e",
   "metadata": {},
   "outputs": [
    {
     "name": "stdout",
     "output_type": "stream",
     "text": [
      "name 'b' is not defined\n"
     ]
    }
   ],
   "source": [
    "try:\n",
    "    a=b\n",
    "\n",
    "except NameError as ex:\n",
    "    print(ex)"
   ]
  },
  {
   "cell_type": "code",
   "execution_count": 9,
   "id": "fcdbe28b",
   "metadata": {},
   "outputs": [
    {
     "name": "stdout",
     "output_type": "stream",
     "text": [
      "division by zero\n",
      "Please enter the correct denominator\n"
     ]
    }
   ],
   "source": [
    "try:\n",
    "    res = 1/0\n",
    "except ZeroDivisionError as z:\n",
    "    print(z)\n",
    "    print(\"Please enter the correct denominator\")"
   ]
  },
  {
   "cell_type": "code",
   "execution_count": null,
   "id": "67142c8a",
   "metadata": {},
   "outputs": [
    {
     "name": "stdout",
     "output_type": "stream",
     "text": [
      "name 'b' is not defined\n"
     ]
    }
   ],
   "source": [
    "try:\n",
    "    a = b  # after this it will directly go the common exception \n",
    "    res = 1/0\n",
    "    \n",
    "except ZeroDivisionError as z:\n",
    "    print(z)\n",
    "    print(\"Please enter the correct denominator\")\n",
    "except Exception as q:\n",
    "    print(q)"
   ]
  },
  {
   "cell_type": "code",
   "execution_count": 24,
   "id": "a7f2b43a",
   "metadata": {},
   "outputs": [
    {
     "name": "stdout",
     "output_type": "stream",
     "text": [
      "NameError: name 'b' is not defined\n",
      "ZeroDivisionError: division by zero\n",
      "Please enter the correct denominator\n"
     ]
    }
   ],
   "source": [
    "## This is to raise the two exceptio \n",
    "try:\n",
    "    a = b  # This raises NameError\n",
    "except NameError as e:\n",
    "    print(\"NameError:\", e)\n",
    "\n",
    "try:\n",
    "    res = 1/0  # This raises ZeroDivisionError\n",
    "except ZeroDivisionError as z:\n",
    "    print(\"ZeroDivisionError:\", z)\n",
    "    print(\"Please enter the correct denominator\")\n"
   ]
  },
  {
   "cell_type": "code",
   "execution_count": 26,
   "id": "8fc5e842",
   "metadata": {},
   "outputs": [
    {
     "name": "stdout",
     "output_type": "stream",
     "text": [
      "division by zero\n"
     ]
    }
   ],
   "source": [
    "\n",
    "try:\n",
    "    num = int(input())\n",
    "    res = 1/num\n",
    "except  ValueError as v:\n",
    "    print(\"This is not a valid number\" , v)\n",
    "except ZeroDivisionError as z:\n",
    "    print(z)\n"
   ]
  },
  {
   "cell_type": "code",
   "execution_count": 29,
   "id": "100777ea",
   "metadata": {},
   "outputs": [
    {
     "name": "stdout",
     "output_type": "stream",
     "text": [
      "The result is 0.1\n",
      "Execute compele...!\n"
     ]
    }
   ],
   "source": [
    "\n",
    "try:\n",
    "    num = int(input())\n",
    "    res = 1/num\n",
    "except  ValueError as v:\n",
    "    print(\"This is not a valid number\" , v)\n",
    "except ZeroDivisionError as z:\n",
    "    print(z)\n",
    "except Exception as e:\n",
    "    print(e)\n",
    "else:\n",
    "    print(f\"The result is {res}\")  # if no excpetion as caught then this block will execute\n",
    "finally:\n",
    "    print(\"Execute compele...!\") # if exception caught also or not caught also , this will execute...!!! , because this will help when we connect the database, either caught or not caught the exception we need to disconnect the connection with the database so in that cases it will helpfull\n",
    "    "
   ]
  },
  {
   "cell_type": "code",
   "execution_count": 33,
   "id": "f4e67972",
   "metadata": {},
   "outputs": [
    {
     "name": "stdout",
     "output_type": "stream",
     "text": [
      "asfdadasdfdafdfad\n",
      "File closed\n"
     ]
    }
   ],
   "source": [
    "try:\n",
    "    file= open('example.txt','r')\n",
    "    content = file.read()\n",
    "    print(content)\n",
    "except FileNotFoundError as f:\n",
    "    print(f)\n",
    "finally:\n",
    "    if 'file' in locals() or not file.closed():\n",
    "        file.close()\n",
    "        print(\"File closed\")"
   ]
  }
 ],
 "metadata": {
  "kernelspec": {
   "display_name": "Python 3",
   "language": "python",
   "name": "python3"
  },
  "language_info": {
   "codemirror_mode": {
    "name": "ipython",
    "version": 3
   },
   "file_extension": ".py",
   "mimetype": "text/x-python",
   "name": "python",
   "nbconvert_exporter": "python",
   "pygments_lexer": "ipython3",
   "version": "3.12.0"
  }
 },
 "nbformat": 4,
 "nbformat_minor": 5
}

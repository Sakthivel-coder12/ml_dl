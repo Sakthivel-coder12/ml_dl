{
 "cells": [
  {
   "cell_type": "code",
   "execution_count": 4,
   "id": "d1ecab6d",
   "metadata": {},
   "outputs": [
    {
     "name": "stdout",
     "output_type": "stream",
     "text": [
      "division by zero\n",
      "The result is None\n"
     ]
    }
   ],
   "source": [
    "def div(a,b):\n",
    "    try:\n",
    "        res = a/b\n",
    "    except ZeroDivisionError as z:\n",
    "        print(z)\n",
    "        res = None\n",
    "    finally:\n",
    "        print(f\"The result is {res}\")\n",
    "div(1,0)\n"
   ]
  },
  {
   "cell_type": "code",
   "execution_count": null,
   "id": "94d923e4",
   "metadata": {},
   "outputs": [
    {
     "name": "stdout",
     "output_type": "stream",
     "text": [
      "[Errno 2] No such file or directory: 'data.txt'\n"
     ]
    }
   ],
   "source": [
    "def read_file(filename):\n",
    "    try:\n",
    "        r = True\n",
    "        file = open(filename,'r')\n",
    "        content = file.read()\n",
    "        print(file) \n",
    "    except FileNotFoundError as f:\n",
    "        print(f)\n",
    "        r = False\n",
    "    finally:\n",
    "        if(r):\n",
    "            file.close()\n",
    "        pass\n",
    "read_file('data.txt')"
   ]
  },
  {
   "cell_type": "code",
   "execution_count": 11,
   "id": "9c2a3891",
   "metadata": {},
   "outputs": [
    {
     "name": "stdout",
     "output_type": "stream",
     "text": [
      "Execute successfully...!\n",
      "unsupported operand type(s) for +=: 'int' and 'str'\n",
      "Execute successfully...!\n"
     ]
    }
   ],
   "source": [
    "def list_sum(lst):\n",
    "    try:\n",
    "        s = 0\n",
    "        for i in lst:\n",
    "            s += i\n",
    "    except TypeError as t:\n",
    "        print(t)\n",
    "        s = None\n",
    "    finally:\n",
    "        print(\"Execute successfully...!\")\n",
    "    return s\n",
    "list_sum([1,2,3,4,5])\n",
    "list_sum([1,2,3,4,5,'a'])"
   ]
  },
  {
   "cell_type": "code",
   "execution_count": 16,
   "id": "7a1c1a26",
   "metadata": {},
   "outputs": [
    {
     "name": "stdout",
     "output_type": "stream",
     "text": [
      "Error : invalid literal for int() with base 10: 'sakthivel'\n",
      "Execution complete...!\n"
     ]
    }
   ],
   "source": [
    "def ex_input():\n",
    "    try:\n",
    "        value = int(input(\"Enter the value : \"))\n",
    "    except ValueError as e:\n",
    "        print(f\"Error : {e}\")\n",
    "        value = None\n",
    "    finally:\n",
    "        print(\"Execution complete...!\")\n",
    "    return value\n",
    "ex_input()"
   ]
  },
  {
   "cell_type": "code",
   "execution_count": 28,
   "id": "092c1e4c",
   "metadata": {},
   "outputs": [
    {
     "name": "stdout",
     "output_type": "stream",
     "text": [
      "23\n",
      "None\n"
     ]
    }
   ],
   "source": [
    "def key_return(d,k):\n",
    "    try:\n",
    "        a = d[k]\n",
    "    except KeyError as s:\n",
    "        print(s)\n",
    "        a = None\n",
    "    finally:\n",
    "        return a\n",
    "print(key_return({'sakthivel':19},23))\n",
    "        "
   ]
  },
  {
   "cell_type": "code",
   "execution_count": 31,
   "id": "43be300d",
   "metadata": {},
   "outputs": [
    {
     "name": "stdout",
     "output_type": "stream",
     "text": [
      "Conversion attempt complete.\n",
      "Division error: division by zero\n",
      "Division attempt complete.\n",
      "Overall execution complete.\n",
      "None\n",
      "Conversion error: invalid literal for int() with base 10: 'a'\n",
      "Conversion attempt complete.\n",
      "Overall execution complete.\n",
      "None\n",
      "Conversion attempt complete.\n",
      "Division attempt complete.\n",
      "Overall execution complete.\n",
      "5.0\n"
     ]
    }
   ],
   "source": [
    "def nested_exception_handling(s):\n",
    "    try:\n",
    "        try:\n",
    "            num = int(s)\n",
    "        except ValueError as e:\n",
    "            print(f\"Conversion error: {e}\")\n",
    "            num = None\n",
    "        finally:\n",
    "            print(\"Conversion attempt complete.\")\n",
    "        if num is not None:\n",
    "            try:\n",
    "                result = 10 / num\n",
    "            except ZeroDivisionError as e:\n",
    "                print(f\"Division error: {e}\")\n",
    "                result = None\n",
    "            finally:\n",
    "                print(\"Division attempt complete.\")\n",
    "            return result\n",
    "    finally:\n",
    "        print(\"Overall execution complete.\")\n",
    "\n",
    "# Test\n",
    "print(nested_exception_handling('0'))  # None\n",
    "print(nested_exception_handling('a'))  # None\n",
    "print(nested_exception_handling('2'))  # 5.0"
   ]
  },
  {
   "cell_type": "code",
   "execution_count": 39,
   "id": "ef007646",
   "metadata": {},
   "outputs": [
    {
     "name": "stdout",
     "output_type": "stream",
     "text": [
      "IndexError: list index out of range\n",
      "None\n"
     ]
    }
   ],
   "source": [
    "def return_value(lst, index):\n",
    "    try:\n",
    "        return lst[index]\n",
    "    except IndexError as e:\n",
    "        print(f\"IndexError: {e}\")\n",
    "        return None\n",
    "\n",
    "print(return_value([1, 2, 3, 4], 5))\n"
   ]
  },
  {
   "cell_type": "code",
   "execution_count": 1,
   "id": "3d96e047",
   "metadata": {},
   "outputs": [
    {
     "name": "stdout",
     "output_type": "stream",
     "text": [
      "Execution complete.\n",
      "{\n",
      "  \"userId\": 1,\n",
      "  \"id\": 1,\n",
      "  \"title\": \"sunt aut facere repellat provident occaecati excepturi optio reprehenderit\",\n",
      "  \"body\": \"quia et suscipit\\nsuscipit recusandae consequuntur expedita et cum\\nreprehenderit molestiae ut ut quas totam\\nnostrum rerum est autem sunt rem eveniet architecto\"\n",
      "}\n",
      "Network error: HTTPSConnectionPool(host='nonexistent.url', port=443): Max retries exceeded with url: / (Caused by NameResolutionError(\"<urllib3.connection.HTTPSConnection object at 0x0000015A09DDCA10>: Failed to resolve 'nonexistent.url' ([Errno 11001] getaddrinfo failed)\"))\n",
      "Execution complete.\n",
      "None\n"
     ]
    }
   ],
   "source": [
    "import requests\n",
    "\n",
    "def read_url(url):\n",
    "    try:\n",
    "        response = requests.get(url)\n",
    "        response.raise_for_status()\n",
    "        return response.text\n",
    "    except requests.RequestException as e:\n",
    "        print(f\"Network error: {e}\")\n",
    "        return None\n",
    "    finally:\n",
    "        print(\"Execution complete.\")\n",
    "\n",
    "# Test\n",
    "print(read_url('https://jsonplaceholder.typicode.com/posts/1'))\n",
    "print(read_url('https://nonexistent.url'))"
   ]
  },
  {
   "cell_type": "code",
   "execution_count": null,
   "id": "f5872774",
   "metadata": {},
   "outputs": [
    {
     "name": "stdout",
     "output_type": "stream",
     "text": [
      "('The negative number is found ', -2)\n",
      "negative found\n",
      "None\n"
     ]
    }
   ],
   "source": [
    "## user defined exception \n",
    "class negativenumbererror(Exception):\n",
    "    pass\n",
    "def check_negative(lst):\n",
    "    a = None\n",
    "    try:\n",
    "        for i in lst:\n",
    "            if i < 0:\n",
    "                raise negativenumbererror(\"The negative number is found \",i)\n",
    "    except negativenumbererror as n:\n",
    "        print(n)\n",
    "        a = \"negative found\"\n",
    "    finally:\n",
    "        return a \n",
    "print(check_negative([1,2,3,-2]))\n",
    "print(check_negative([1,2,3,4,5]))"
   ]
  },
  {
   "cell_type": "code",
   "execution_count": 45,
   "id": "d58d1d5c",
   "metadata": {},
   "outputs": [],
   "source": [
    "def write_strings_to_file(strings, filename):\n",
    "    try:\n",
    "        file = open(filename, 'w')\n",
    "        for string in strings:\n",
    "            file.write(string + '\\n')\n",
    "    except IOError as e:\n",
    "        print(f\"Error: {e}\")\n",
    "    finally:\n",
    "        try:\n",
    "            file.close()\n",
    "        except NameError:\n",
    "            pass\n",
    "\n",
    "# Test\n",
    "write_strings_to_file(['Hello', 'World'], 'output.txt')"
   ]
  }
 ],
 "metadata": {
  "kernelspec": {
   "display_name": "Python 3",
   "language": "python",
   "name": "python3"
  },
  "language_info": {
   "codemirror_mode": {
    "name": "ipython",
    "version": 3
   },
   "file_extension": ".py",
   "mimetype": "text/x-python",
   "name": "python",
   "nbconvert_exporter": "python",
   "pygments_lexer": "ipython3",
   "version": "3.12.0"
  }
 },
 "nbformat": 4,
 "nbformat_minor": 5
}

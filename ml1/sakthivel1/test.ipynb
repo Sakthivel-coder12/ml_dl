{
 "cells": [
  {
   "cell_type": "code",
   "execution_count": 2,
   "id": "d12469a9",
   "metadata": {},
   "outputs": [
    {
     "name": "stdout",
     "output_type": "stream",
     "text": [
      "hshsh\n"
     ]
    }
   ],
   "source": [
    "print(\"hshsh\")"
   ]
  },
  {
   "cell_type": "code",
   "execution_count": 1,
   "id": "0ec31c43",
   "metadata": {},
   "outputs": [
    {
     "data": {
      "text/plain": [
       "200"
      ]
     },
     "execution_count": 1,
     "metadata": {},
     "output_type": "execute_result"
    }
   ],
   "source": [
    "def mul(num1,num2):\n",
    "    return num1 * num2\n",
    "mul(10,20)"
   ]
  },
  {
   "cell_type": "code",
   "execution_count": 4,
   "id": "064c4e44",
   "metadata": {},
   "outputs": [
    {
     "name": "stdout",
     "output_type": "stream",
     "text": [
      "1\n",
      "2\n",
      "3\n",
      "4\n",
      "5\n",
      "5\n",
      "6\n",
      "76\n",
      "6\n",
      "7\n",
      "7\n",
      "sakthivel\n"
     ]
    }
   ],
   "source": [
    "def pos_args(*args):\n",
    "    for i in args:\n",
    "        print(i)\n",
    "pos_args(1,2,3,4,5,5,6,76,6,7,7,\"sakthivel\")"
   ]
  },
  {
   "cell_type": "code",
   "execution_count": 7,
   "id": "e5dc0019",
   "metadata": {},
   "outputs": [
    {
     "name": "stdout",
     "output_type": "stream",
     "text": [
      "skathivel\n"
     ]
    }
   ],
   "source": [
    "def greet(name = \"saga\"):\n",
    "    print(name)\n",
    "greet(\"skathivel\") # if there is no arguments are passed then it will take the  \"saga\" as agruments if any arguments are passed then it take that parameter as an argument"
   ]
  },
  {
   "cell_type": "code",
   "execution_count": 12,
   "id": "7ff1c6a7",
   "metadata": {},
   "outputs": [
    {
     "name": "stdout",
     "output_type": "stream",
     "text": [
      "name: sakthivel\n",
      "age: 19\n",
      "mark: 100\n",
      "name: saga\n",
      "age: 90\n",
      "mark: 100\n"
     ]
    }
   ],
   "source": [
    "def key_value(**kwargs):\n",
    "    for key,value in kwargs.items():\n",
    "        print(f\"{key}: {value}\")\n",
    "dict = {\"name\": \"saga\" , \"age\" : 90,\"mark\" : 100}\n",
    "key_value(name = \"sakthivel\",age = 19,mark = 100)\n",
    "key_value(**dict)# second way is create an dict and pass that as paramenter (the ** is must)"
   ]
  },
  {
   "cell_type": "code",
   "execution_count": 22,
   "id": "1da624a4",
   "metadata": {},
   "outputs": [
    {
     "name": "stdout",
     "output_type": "stream",
     "text": [
      "1\n",
      "2\n",
      "3\n",
      "4\n",
      "5\n",
      "5\n",
      "6\n",
      "76\n",
      "6\n",
      "7\n",
      "7\n",
      "sakthivel\n",
      "{'name': 'saga', 'age': 90, 'mark': 100}\n"
     ]
    }
   ],
   "source": [
    "def pos_args(*args,**kwargs):\n",
    "    for i in args:\n",
    "        print(i)\n",
    "dict = {\"name\": \"saga\" , \"age\" : 90,\"mark\" : 100}\n",
    "pos_args(1,2,3,4,5,5,6,76,6,7,7,\"sakthivel\",dict)   # so in this combination of both args and kwargs need to follow the order , first args and kwargs not vise verse"
   ]
  },
  {
   "cell_type": "code",
   "execution_count": null,
   "id": "10aa5f0b",
   "metadata": {},
   "outputs": [
    {
     "name": "stdout",
     "output_type": "stream",
     "text": [
      "10\n"
     ]
    }
   ],
   "source": [
    "addition = lambda a,b:a+b\n",
    "type(addition)\n",
    "print(addition(5,5)) # here what we doing is that we are creating the function with specific defination or name "
   ]
  },
  {
   "cell_type": "code",
   "execution_count": 24,
   "id": "74bb7f06",
   "metadata": {},
   "outputs": [
    {
     "data": {
      "text/plain": [
       "4"
      ]
     },
     "execution_count": 24,
     "metadata": {},
     "output_type": "execute_result"
    }
   ],
   "source": [
    "#map function\n",
    "def square(num):\n",
    "    return num**2\n",
    "square(2)"
   ]
  },
  {
   "cell_type": "code",
   "execution_count": 25,
   "id": "e3224b1e",
   "metadata": {},
   "outputs": [
    {
     "data": {
      "text/plain": [
       "[1, 4, 9, 16, 25]"
      ]
     },
     "execution_count": 25,
     "metadata": {},
     "output_type": "execute_result"
    }
   ],
   "source": [
    "number = [1,2,3,4,5]\n",
    "list(map( lambda num: num **2 , number))"
   ]
  },
  {
   "cell_type": "code",
   "execution_count": null,
   "id": "02c60587",
   "metadata": {},
   "outputs": [],
   "source": [
    "#map function\n",
    "def square(num):\n",
    "    return num**2\n",
    "square(2)"
   ]
  },
  {
   "cell_type": "code",
   "execution_count": 30,
   "id": "50ec237e",
   "metadata": {},
   "outputs": [
    {
     "name": "stdout",
     "output_type": "stream",
     "text": [
      "list[<map object at 0x000001975CE795A0>]\n"
     ]
    },
    {
     "data": {
      "text/plain": [
       "[1, 4, 9, 16, 25]"
      ]
     },
     "execution_count": 30,
     "metadata": {},
     "output_type": "execute_result"
    }
   ],
   "source": [
    "print(list[map(square,number)])\n",
    "list(map(square,number))"
   ]
  },
  {
   "cell_type": "code",
   "execution_count": 33,
   "id": "dbf552f1",
   "metadata": {},
   "outputs": [
    {
     "data": {
      "text/plain": [
       "[5, 7, 9]"
      ]
     },
     "execution_count": 33,
     "metadata": {},
     "output_type": "execute_result"
    }
   ],
   "source": [
    "#map multiple list\n",
    "\n",
    "num1 = [1,2,3]\n",
    "num2 = [4,5,6]\n",
    "\n",
    "list(map(lambda x,y:x+y  , num1,num2))"
   ]
  },
  {
   "cell_type": "code",
   "execution_count": 34,
   "id": "73d130d8",
   "metadata": {},
   "outputs": [
    {
     "data": {
      "text/plain": [
       "[1, 2, 3, 4, 5]"
      ]
     },
     "execution_count": 34,
     "metadata": {},
     "output_type": "execute_result"
    }
   ],
   "source": [
    "#convert list of strings to the integer\n",
    "\n",
    "numbers = ['1','2','3','4','5']\n",
    "list(map(int,numbers))"
   ]
  },
  {
   "cell_type": "code",
   "execution_count": 38,
   "id": "f5e53de8",
   "metadata": {},
   "outputs": [
    {
     "data": {
      "text/plain": [
       "['SAKTHIVEL', 'FAIZAN', 'VINOTH', 'SAM']"
      ]
     },
     "execution_count": 38,
     "metadata": {},
     "output_type": "execute_result"
    }
   ],
   "source": [
    "# we can apply any build-in functions alo \n",
    "\n",
    "words = [\"sakthivel\",\"faizan\",\"vinoth\",\"sam\"]\n",
    "list(map(str.upper,words))"
   ]
  },
  {
   "cell_type": "code",
   "execution_count": 41,
   "id": "b554c2a6",
   "metadata": {},
   "outputs": [
    {
     "data": {
      "text/plain": [
       "[('sakthivel', 19), ('sam', 19)]"
      ]
     },
     "execution_count": 41,
     "metadata": {},
     "output_type": "execute_result"
    }
   ],
   "source": [
    "def get_name(person):\n",
    "    return person['name'],person['age']\n",
    "\n",
    "people = [\n",
    "    {'name' : \"sakthivel\" , 'age' : 19},\n",
    "    {'name' : \"sam\" , 'age' : 19}\n",
    "]\n",
    "list(map(get_name,people))   # note here while calling the function we should not use the ()  like get_name()  not required"
   ]
  },
  {
   "cell_type": "code",
   "execution_count": 43,
   "id": "4f2f13de",
   "metadata": {},
   "outputs": [
    {
     "name": "stdout",
     "output_type": "stream",
     "text": [
      "<filter object at 0x000001975CE0B910>\n",
      "[2, 4]\n"
     ]
    }
   ],
   "source": [
    "number  = [1,2,3,4,5]\n",
    "def even(num):\n",
    "    return num%2 == 0\n",
    "\n",
    "print(filter(even,number))\n",
    "print(list(filter(even,number)))"
   ]
  },
  {
   "cell_type": "code",
   "execution_count": 44,
   "id": "476d348e",
   "metadata": {},
   "outputs": [
    {
     "data": {
      "text/plain": [
       "[2, 4, 6, 8]"
      ]
     },
     "execution_count": 44,
     "metadata": {},
     "output_type": "execute_result"
    }
   ],
   "source": [
    "number = [1,2,3,4,5,6,7,8]\n",
    "list(filter(lambda x:x%2 == 0 ,number))"
   ]
  },
  {
   "cell_type": "code",
   "execution_count": 45,
   "id": "d048f8b0",
   "metadata": {},
   "outputs": [
    {
     "data": {
      "text/plain": [
       "[4, 6, 8]"
      ]
     },
     "execution_count": 45,
     "metadata": {},
     "output_type": "execute_result"
    }
   ],
   "source": [
    "# filter lambda with multiply conditions\n",
    "# like even and greater than 3\n",
    "number = [1,2,3,4,5,6,7,8]\n",
    "list(filter(lambda x:x%2 == 0  and x>3 ,number))"
   ]
  },
  {
   "cell_type": "code",
   "execution_count": 19,
   "id": "1d4f415d",
   "metadata": {},
   "outputs": [
    {
     "name": "stdout",
     "output_type": "stream",
     "text": [
      "[{'name': 'sakthivel', 'age': 19}]\n"
     ]
    }
   ],
   "source": [
    "# apply lambda function in the dictionary\n",
    "\n",
    "# age is greater then 18\n",
    "\n",
    "\n",
    "data =[{'name':\"sakthivel\",'age':19},\n",
    "       {'name':\"saga\",'age' : 17}]\n",
    "\n",
    "res = list(filter(lambda ss:ss['age']>18,data))\n",
    "print(res)"
   ]
  },
  {
   "cell_type": "code",
   "execution_count": 24,
   "id": "255ab801",
   "metadata": {},
   "outputs": [
    {
     "data": {
      "text/plain": [
       "4"
      ]
     },
     "execution_count": 24,
     "metadata": {},
     "output_type": "execute_result"
    }
   ],
   "source": [
    "import math\n",
    "math.ceil(10 / 3)"
   ]
  },
  {
   "cell_type": "code",
   "execution_count": null,
   "id": "b0e42a91",
   "metadata": {},
   "outputs": [
    {
     "data": {
      "text/plain": [
       "(1, 2, 3, 4, 5)"
      ]
     },
     "execution_count": 29,
     "metadata": {},
     "output_type": "execute_result"
    }
   ],
   "source": [
    "number = [1,2,3,4,5]\n",
    "tuple((x,y for x in number if x % 2 == 0 ))"
   ]
  },
  {
   "cell_type": "code",
   "execution_count": null,
   "id": "a3a52d94",
   "metadata": {},
   "outputs": [],
   "source": [
    "\n",
    "lst =  [1, 7, 3, 10, 5]\n",
    "\n",
    "def max_consecutive_difference(lst):\n",
    "    if len(lst) < 2:\n",
    "        return 0\n",
    "    else:\n",
    "        for i in range(1,len(lst)):"
   ]
  },
  {
   "cell_type": "code",
   "execution_count": null,
   "id": "11b840c5",
   "metadata": {},
   "outputs": [
    {
     "name": "stdout",
     "output_type": "stream",
     "text": [
      "7\n"
     ]
    }
   ],
   "source": [
    "import math\n",
    "\n",
    "lst =  [1, 7, 3, 10, 5]\n",
    "for i in range(0,len(lst)):\n",
    "    if len(lst)-1 != i:\n",
    "        lst2.append(abs(lst[i] - lst[i+1]))\n",
    "print(max(lst2))\n",
    "    "
   ]
  },
  {
   "cell_type": "code",
   "execution_count": null,
   "id": "4e3c2ae8",
   "metadata": {},
   "outputs": [
    {
     "name": "stdout",
     "output_type": "stream",
     "text": [
      "[10, 5, 1, 7, 3]\n"
     ]
    }
   ],
   "source": [
    "\n",
    "def rotate_list(lst, k):\n",
    "    k = k % len(lst)  \n",
    "    lst2 = []\n",
    "    for _ in range(k):  \n",
    "        lst2.append(lst.pop())  \n",
    "    lst2.reverse()\n",
    "    for i in lst:\n",
    "        lst2.append(i)  \n",
    "\n",
    "    return lst2\n",
    "\n",
    "lst =  [1, 7, 3, 10, 5]\n",
    "res = rotate_list(lst,2)\n",
    "print(res)"
   ]
  },
  {
   "cell_type": "code",
   "execution_count": 48,
   "id": "da808023",
   "metadata": {},
   "outputs": [
    {
     "name": "stdout",
     "output_type": "stream",
     "text": [
      "{'hello': 2, 'world': 1}\n"
     ]
    }
   ],
   "source": [
    "sentence = \"hello world hello\"\n",
    "lst = sentence.split(\" \")\n",
    "ans = {}\n",
    "for i in lst:\n",
    "    ans[i] = lst.count(i)\n",
    "print(ans)"
   ]
  },
  {
   "cell_type": "code",
   "execution_count": null,
   "id": "7002ea2b",
   "metadata": {},
   "outputs": [
    {
     "name": "stdout",
     "output_type": "stream",
     "text": [
      "False\n"
     ]
    }
   ],
   "source": [
    "lst =  (1, 7, 3, 10, 5)\n",
    "l = list(lst)\n",
    "l.reverse()\n",
    "\n",
    "print(tuple(l) == lst)"
   ]
  },
  {
   "cell_type": "code",
   "execution_count": null,
   "id": "b948e008",
   "metadata": {},
   "outputs": [
    {
     "name": "stdout",
     "output_type": "stream",
     "text": [
      "{'a': 1, 'b': 5, 'c': 9, 'd': 6}\n"
     ]
    }
   ],
   "source": [
    "lst = [{'a': 1, 'b': 2}, {'b': 3, 'c': 4}, {'c': 5, 'd': 6}]\n",
    "\n",
    "ans = {}\n",
    "for i in lst:\n",
    "    for key,value in i.items():\n",
    "        if key not in ans:\n",
    "            ans[key] = value\n",
    "        else:\n",
    "            ans[key]  += value\n",
    "print(ans)\n"
   ]
  },
  {
   "cell_type": "code",
   "execution_count": 61,
   "id": "491774bb",
   "metadata": {},
   "outputs": [
    {
     "data": {
      "text/plain": [
       "5"
      ]
     },
     "execution_count": 61,
     "metadata": {},
     "output_type": "execute_result"
    }
   ],
   "source": [
    "from package import maths\n",
    "\n",
    "\n",
    "maths.addition(4,1)"
   ]
  },
  {
   "cell_type": "code",
   "execution_count": 62,
   "id": "ebc3f272",
   "metadata": {},
   "outputs": [
    {
     "data": {
      "text/plain": [
       "-8"
      ]
     },
     "execution_count": 62,
     "metadata": {},
     "output_type": "execute_result"
    }
   ],
   "source": [
    "from package.saga.mm import subtract\n",
    "subtract(1,9)"
   ]
  },
  {
   "cell_type": "code",
   "execution_count": 24,
   "id": "647d1fc5",
   "metadata": {},
   "outputs": [
    {
     "name": "stdout",
     "output_type": "stream",
     "text": [
      "6\n",
      "vasu\n"
     ]
    }
   ],
   "source": [
    "import array\n",
    "array.array('B',[1]) #must be b, B, u, h, H, i, I, l, L, q, Q, f or d\n",
    "\n",
    "\n",
    "import random\n",
    "print(random.randint(1,10))\n",
    "print(random.choice([\"sakthivel\",\"faizan\",\"vasu\"]))\n"
   ]
  },
  {
   "cell_type": "code",
   "execution_count": 2,
   "id": "db5770bb",
   "metadata": {},
   "outputs": [
    {
     "data": {
      "text/plain": [
       "'c:\\\\Users\\\\sakth\\\\OneDrive\\\\Desktop\\\\ml_saga\\\\saga\\\\sakthivel'"
      ]
     },
     "execution_count": 2,
     "metadata": {},
     "output_type": "execute_result"
    }
   ],
   "source": [
    "import os\n",
    "os.getcwd()"
   ]
  },
  {
   "cell_type": "code",
   "execution_count": 9,
   "id": "84397835",
   "metadata": {},
   "outputs": [
    {
     "data": {
      "text/plain": [
       "'c:\\\\Users\\\\sakth\\\\OneDrive\\\\Desktop\\\\ml_saga\\\\saga\\\\sakthivel'"
      ]
     },
     "execution_count": 9,
     "metadata": {},
     "output_type": "execute_result"
    }
   ],
   "source": [
    "os.getcwd()"
   ]
  },
  {
   "cell_type": "code",
   "execution_count": null,
   "id": "6ff77507",
   "metadata": {},
   "outputs": [],
   "source": [
    "os.mkdir(\"saga1\")   "
   ]
  },
  {
   "cell_type": "code",
   "execution_count": 4,
   "id": "5868bfe1",
   "metadata": {},
   "outputs": [],
   "source": [
    "os.rmdir(\"saga1\")\n",
    "os.remove(\"ss.txt\")"
   ]
  },
  {
   "cell_type": "code",
   "execution_count": null,
   "id": "2f621637",
   "metadata": {},
   "outputs": [],
   "source": [
    "os.makedirs(\"saga1\",exist_ok=True)    #create the directory if not exists\n",
    "\n",
    "with open(\"ss.txt\",\"w\") as f:   #try to open the file , if not exists then create that file and write the content\n",
    "    f.write(\"The file is full path\")"
   ]
  },
  {
   "cell_type": "code",
   "execution_count": null,
   "id": "2e64bc6c",
   "metadata": {},
   "outputs": [],
   "source": [
    "import shutil as s\n",
    "s.copyfile('saga.txt','saa.txt')   # copy the one file content to the another file "
   ]
  },
  {
   "cell_type": "code",
   "execution_count": null,
   "id": "96af30bf",
   "metadata": {},
   "outputs": [
    {
     "name": "stdout",
     "output_type": "stream",
     "text": [
      "[1, 2, 3, 3, 4]\n",
      "<class 'str'>\n",
      "<class 'dict'>\n",
      "{'name': 'sakthivel', 'age': 19}\n",
      "{\"name\": \"sakthivel\", \"age\": 19}\n"
     ]
    },
    {
     "data": {
      "text/plain": [
       "str"
      ]
     },
     "execution_count": 65,
     "metadata": {},
     "output_type": "execute_result"
    }
   ],
   "source": [
    "import json as j\n",
    "data = {'name':\"sakthivel\",'age':19}\n",
    "data1 = [1,2,3,3,4]\n",
    "str2 = j.dumps(data1)\n",
    "print(str2)  \n",
    "print(type(str2))\n",
    "print(type(data))\n",
    "print(data)                                    # this j.dumps(any_iterable_data_structure )   this is not only for list and dict for any data structure \n",
    "str1 =j.dumps(data)\n",
    "print(str1)\n",
    "type(str1)    \n",
    "\n"
   ]
  },
  {
   "cell_type": "code",
   "execution_count": null,
   "id": "e08052fd",
   "metadata": {},
   "outputs": [
    {
     "name": "stdout",
     "output_type": "stream",
     "text": [
      "{'name': 'sakthivel', 'age': 19}\n",
      "[1, 2, 3, 3, 4]\n"
     ]
    }
   ],
   "source": [
    "d = j.loads(str1)\n",
    "print(d)\n",
    "type(d)\n",
    "d1 = j.loads(str2)     # here also the loads(any_iterable_data_structures) not only for dict and list for any iterable data structure\n",
    "print(d1)"
   ]
  },
  {
   "cell_type": "code",
   "execution_count": 40,
   "id": "d969962f",
   "metadata": {},
   "outputs": [
    {
     "name": "stdout",
     "output_type": "stream",
     "text": [
      "['name', 'age']\n",
      "['sakthivel', '19']\n"
     ]
    }
   ],
   "source": [
    "import csv\n",
    "\n",
    "with open('example.csv',mode = 'w', newline='') as file:\n",
    "    wr = csv.writer(file)\n",
    "    wr.writerow(['name','age'])\n",
    "    wr.writerow([\"sakthivel\",19])\n",
    "\n",
    "with open('example.csv',mode = 'r') as file:\n",
    "    re = csv.reader(file)\n",
    "    for i in re:\n",
    "        print(i)\n"
   ]
  },
  {
   "cell_type": "code",
   "execution_count": null,
   "id": "5dddc2cd",
   "metadata": {},
   "outputs": [
    {
     "name": "stdout",
     "output_type": "stream",
     "text": [
      "2025-05-24 11:36:56.075028\n",
      "2025-05-23 11:36:56.075028\n"
     ]
    }
   ],
   "source": [
    "from  datetime import datetime,timedelta\n",
    "now = datetime.now()\n",
    "\n",
    "print(now)\n",
    "\n",
    "yesterday = now - timedelta(days = 1)\n",
    "print(yesterday)"
   ]
  },
  {
   "cell_type": "code",
   "execution_count": 49,
   "id": "756dc763",
   "metadata": {},
   "outputs": [
    {
     "name": "stdout",
     "output_type": "stream",
     "text": [
      "1748066992.3292372\n"
     ]
    },
    {
     "data": {
      "text/plain": [
       "time.struct_time(tm_year=2025, tm_mon=5, tm_mday=24, tm_hour=11, tm_min=40, tm_sec=2, tm_wday=5, tm_yday=144, tm_isdst=0)"
      ]
     },
     "execution_count": 49,
     "metadata": {},
     "output_type": "execute_result"
    }
   ],
   "source": [
    "import time as t\n",
    "print(t.time())\n",
    "t.sleep(10)\n",
    "t.localtime()"
   ]
  },
  {
   "cell_type": "code",
   "execution_count": 58,
   "id": "fcf97ab8",
   "metadata": {},
   "outputs": [
    {
     "name": "stdout",
     "output_type": "stream",
     "text": [
      "<re.Match object; span=(0, 3), match='123'>\n",
      "123\n"
     ]
    }
   ],
   "source": [
    "import re\n",
    "\n",
    "pattern = r'\\d+'\n",
    "\n",
    "st = \"hi 123 sakthivel 456\"\n",
    "st1 = '123'\n",
    "search = re.search(pattern,st)\n",
    "match = re.match(pattern,st1)\n",
    "print(match)\n",
    "print(search.group())"
   ]
  },
  {
   "cell_type": "code",
   "execution_count": null,
   "id": "23133677",
   "metadata": {},
   "outputs": [],
   "source": [
    "\n",
    "# Create a new directory\n",
    "os.mkdir('new_directory')\n",
    "\n",
    "# List contents of the current directory\n",
    "print(os.listdir('.'))\n",
    "os.rmdir('new_directory')"
   ]
  }
 ],
 "metadata": {
  "kernelspec": {
   "display_name": "Python 3",
   "language": "python",
   "name": "python3"
  },
  "language_info": {
   "codemirror_mode": {
    "name": "ipython",
    "version": 3
   },
   "file_extension": ".py",
   "mimetype": "text/x-python",
   "name": "python",
   "nbconvert_exporter": "python",
   "pygments_lexer": "ipython3",
   "version": "3.12.0"
  }
 },
 "nbformat": 4,
 "nbformat_minor": 5
}

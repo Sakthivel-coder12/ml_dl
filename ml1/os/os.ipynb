{
 "cells": [
  {
   "cell_type": "code",
   "execution_count": 14,
   "id": "db8cfb86",
   "metadata": {},
   "outputs": [
    {
     "name": "stdout",
     "output_type": "stream",
     "text": [
      "4704\n",
      "23732\n",
      "c:\\Users\\sakth\\OneDrive\\Desktop\\ml_saga\n"
     ]
    }
   ],
   "source": [
    "import os\n",
    "print(os.getpid())\n",
    "print(os.getppid())\n",
    "print(os.getcwd())"
   ]
  },
  {
   "cell_type": "code",
   "execution_count": null,
   "id": "ec83fb04",
   "metadata": {},
   "outputs": [],
   "source": [
    "import os\n",
    "os.mkdir('sakthivel')\n",
    "os.rmdir('sakthivel')"
   ]
  },
  {
   "cell_type": "code",
   "execution_count": 10,
   "id": "4ff104b4",
   "metadata": {},
   "outputs": [
    {
     "data": {
      "text/plain": [
       "['filehanding.ipynb',\n",
       " 'os.ipynb',\n",
       " 'saga',\n",
       " 'saga.bin',\n",
       " 'saga.txt',\n",
       " 'saga1.txt',\n",
       " 'sak.txt',\n",
       " 'sakthivel']"
      ]
     },
     "execution_count": 10,
     "metadata": {},
     "output_type": "execute_result"
    }
   ],
   "source": [
    "os.listdir('saga')   # This will list the files and folders of the particular direcotry(saga etc...) \n",
    "os.listdir('.') #This is also list the current directory files and folder\n",
    "os.listdir()    #This is also list the current directory files and folder"
   ]
  },
  {
   "cell_type": "code",
   "execution_count": 11,
   "id": "72c7e67f",
   "metadata": {},
   "outputs": [
    {
     "name": "stdout",
     "output_type": "stream",
     "text": [
      "folder\\file.txt\n"
     ]
    }
   ],
   "source": [
    "# to create the path\n",
    "dir_name = \"folder\"\n",
    "file_name = \"file.txt\"\n",
    "full_path = os.path.join(dir_name,file_name)\n",
    "print(full_path)"
   ]
  },
  {
   "cell_type": "code",
   "execution_count": 17,
   "id": "a96ca696",
   "metadata": {},
   "outputs": [
    {
     "name": "stdout",
     "output_type": "stream",
     "text": [
      "c:\\Users\\sakth\\OneDrive\\Desktop\\ml_saga\\folder\\file.txt\n"
     ]
    }
   ],
   "source": [
    "# to create the path\n",
    "import os\n",
    "dir_name = \"folder\"\n",
    "file_name = \"file.txt\"\n",
    "full_path = os.path.join(os.getcwd(),dir_name,file_name)\n",
    "print(full_path)"
   ]
  },
  {
   "cell_type": "code",
   "execution_count": 21,
   "id": "71534917",
   "metadata": {},
   "outputs": [
    {
     "name": "stdout",
     "output_type": "stream",
     "text": [
      "The path  saga1.txt is exists\n"
     ]
    }
   ],
   "source": [
    "path = 'saga1.txt'\n",
    "if os.path.exists(path):\n",
    "    print(\"The path \",path,\"is exists\")\n",
    "else:\n",
    "    print(\"The path does not exists\")"
   ]
  },
  {
   "cell_type": "code",
   "execution_count": 30,
   "id": "8ead1ad9",
   "metadata": {},
   "outputs": [
    {
     "name": "stdout",
     "output_type": "stream",
     "text": [
      "The path  sakthivel  is directory\n"
     ]
    }
   ],
   "source": [
    "import os\n",
    "path = 'sakthivel'\n",
    "if os.path.isfile(path):\n",
    "    print(\"The path \",path,\"is file\")\n",
    "elif os.path.isdir(path):\n",
    "    print(\"The path \",path,\" is directory\")\n",
    "else:\n",
    "    print(\"The path \",path,\"is not a file or directory...!\")"
   ]
  },
  {
   "cell_type": "code",
   "execution_count": 31,
   "id": "a5238b0a",
   "metadata": {},
   "outputs": [
    {
     "name": "stdout",
     "output_type": "stream",
     "text": [
      "c:\\Users\\sakth\\OneDrive\\Desktop\\ml_saga\\saga.txt\n"
     ]
    }
   ],
   "source": [
    "relative_path = 'saga.txt'\n",
    "absolute_path = os.path.abspath(relative_path)\n",
    "print(absolute_path)"
   ]
  },
  {
   "cell_type": "code",
   "execution_count": null,
   "id": "9a2bd21d",
   "metadata": {},
   "outputs": [],
   "source": [
    "import os\n",
    "\n",
    "for root,dirs,file in os.walk('.'):  # this is for current directory , if you want for the any specific directory os.walk('saga')\n",
    "    print(root)\n",
    "    print(dirs)\n",
    "    print(file)"
   ]
  },
  {
   "cell_type": "code",
   "execution_count": 42,
   "id": "93c6f5ee",
   "metadata": {},
   "outputs": [],
   "source": [
    "import os\n",
    "os.rename('saga.bin','sagaa.bin')\n"
   ]
  },
  {
   "cell_type": "code",
   "execution_count": null,
   "id": "39b0129c",
   "metadata": {},
   "outputs": [
    {
     "data": {
      "text/plain": [
       "5"
      ]
     },
     "execution_count": 43,
     "metadata": {},
     "output_type": "execute_result"
    }
   ],
   "source": [
    "os.path.getsize('sagaa.bin')   # this will be in bytes  "
   ]
  },
  {
   "cell_type": "code",
   "execution_count": null,
   "id": "1aaddf36",
   "metadata": {},
   "outputs": [
    {
     "ename": "FileNotFoundError",
     "evalue": "[WinError 2] The system cannot find the file specified: 'sakthivel'",
     "output_type": "error",
     "traceback": [
      "\u001b[31m---------------------------------------------------------------------------\u001b[39m",
      "\u001b[31mFileNotFoundError\u001b[39m                         Traceback (most recent call last)",
      "\u001b[36mCell\u001b[39m\u001b[36m \u001b[39m\u001b[32mIn[46]\u001b[39m\u001b[32m, line 1\u001b[39m\n\u001b[32m----> \u001b[39m\u001b[32m1\u001b[39m \u001b[43mos\u001b[49m\u001b[43m.\u001b[49m\u001b[43mchdir\u001b[49m\u001b[43m(\u001b[49m\u001b[33;43m'\u001b[39;49m\u001b[33;43msakthivel\u001b[39;49m\u001b[33;43m'\u001b[39;49m\u001b[43m)\u001b[49m\n\u001b[32m      2\u001b[39m os.getcwd()\n",
      "\u001b[31mFileNotFoundError\u001b[39m: [WinError 2] The system cannot find the file specified: 'sakthivel'"
     ]
    }
   ],
   "source": [
    "os.chdir('sakthivel')\n"
   ]
  },
  {
   "cell_type": "code",
   "execution_count": null,
   "id": "d2c887db",
   "metadata": {},
   "outputs": [
    {
     "data": {
      "text/plain": [
       "'c:\\\\Users\\\\sakth\\\\OneDrive\\\\Desktop\\\\ml_saga\\\\sakthivel'"
      ]
     },
     "execution_count": 48,
     "metadata": {},
     "output_type": "execute_result"
    }
   ],
   "source": [
    "os.getcwd()\n"
   ]
  },
  {
   "cell_type": "code",
   "execution_count": 50,
   "id": "957afec0",
   "metadata": {},
   "outputs": [
    {
     "name": "stdout",
     "output_type": "stream",
     "text": [
      "None\n",
      "sakthivel\n"
     ]
    }
   ],
   "source": [
    "print(os.environ.get('HOME'))\n",
    "os.environ['MY_VAR'] = 'sakthivel'\n",
    "print(os.environ.get('MY_VAR'))"
   ]
  },
  {
   "cell_type": "code",
   "execution_count": null,
   "id": "0a5a691b",
   "metadata": {},
   "outputs": [],
   "source": [
    "# to remove the file\n",
    "os.getcwd()\n",
    "os.chdir(os.pardir)\n"
   ]
  },
  {
   "cell_type": "code",
   "execution_count": 55,
   "id": "1716e6da",
   "metadata": {},
   "outputs": [
    {
     "data": {
      "text/plain": [
       "'c:\\\\Users\\\\sakth\\\\OneDrive\\\\Desktop\\\\ml_saga'"
      ]
     },
     "execution_count": 55,
     "metadata": {},
     "output_type": "execute_result"
    }
   ],
   "source": [
    "os.getcwd()"
   ]
  },
  {
   "cell_type": "code",
   "execution_count": 56,
   "id": "5b7907f5",
   "metadata": {},
   "outputs": [],
   "source": [
    "os.remove('sak.txt')"
   ]
  },
  {
   "cell_type": "code",
   "execution_count": 59,
   "id": "26cf38ba",
   "metadata": {},
   "outputs": [],
   "source": [
    "import os\n",
    "os.chmod('zz.txt',0o444)"
   ]
  },
  {
   "cell_type": "code",
   "execution_count": 64,
   "id": "88c43269",
   "metadata": {},
   "outputs": [
    {
     "ename": "PermissionError",
     "evalue": "[Errno 13] Permission denied: 'zz.txt'",
     "output_type": "error",
     "traceback": [
      "\u001b[31m---------------------------------------------------------------------------\u001b[39m",
      "\u001b[31mPermissionError\u001b[39m                           Traceback (most recent call last)",
      "\u001b[36mCell\u001b[39m\u001b[36m \u001b[39m\u001b[32mIn[64]\u001b[39m\u001b[32m, line 1\u001b[39m\n\u001b[32m----> \u001b[39m\u001b[32m1\u001b[39m \u001b[38;5;28;01mwith\u001b[39;00m \u001b[38;5;28;43mopen\u001b[39;49m\u001b[43m(\u001b[49m\u001b[33;43m'\u001b[39;49m\u001b[33;43mzz.txt\u001b[39;49m\u001b[33;43m'\u001b[39;49m\u001b[43m,\u001b[49m\u001b[33;43m'\u001b[39;49m\u001b[33;43mw\u001b[39;49m\u001b[33;43m'\u001b[39;49m\u001b[43m)\u001b[49m \u001b[38;5;28;01mas\u001b[39;00m file:   \u001b[38;5;66;03m# see after change the permission if we try to do any change in that file i won't allow as to do anything\u001b[39;00m\n\u001b[32m      2\u001b[39m     file.write(\u001b[33m\"\u001b[39m\u001b[33mi love myself\u001b[39m\u001b[33m\"\u001b[39m)\n",
      "\u001b[36mFile \u001b[39m\u001b[32mc:\\Users\\sakth\\OneDrive\\Desktop\\ml_saga\\saga\\Lib\\site-packages\\IPython\\core\\interactiveshell.py:326\u001b[39m, in \u001b[36m_modified_open\u001b[39m\u001b[34m(file, *args, **kwargs)\u001b[39m\n\u001b[32m    319\u001b[39m \u001b[38;5;28;01mif\u001b[39;00m file \u001b[38;5;129;01min\u001b[39;00m {\u001b[32m0\u001b[39m, \u001b[32m1\u001b[39m, \u001b[32m2\u001b[39m}:\n\u001b[32m    320\u001b[39m     \u001b[38;5;28;01mraise\u001b[39;00m \u001b[38;5;167;01mValueError\u001b[39;00m(\n\u001b[32m    321\u001b[39m         \u001b[33mf\u001b[39m\u001b[33m\"\u001b[39m\u001b[33mIPython won\u001b[39m\u001b[33m'\u001b[39m\u001b[33mt let you open fd=\u001b[39m\u001b[38;5;132;01m{\u001b[39;00mfile\u001b[38;5;132;01m}\u001b[39;00m\u001b[33m by default \u001b[39m\u001b[33m\"\u001b[39m\n\u001b[32m    322\u001b[39m         \u001b[33m\"\u001b[39m\u001b[33mas it is likely to crash IPython. If you know what you are doing, \u001b[39m\u001b[33m\"\u001b[39m\n\u001b[32m    323\u001b[39m         \u001b[33m\"\u001b[39m\u001b[33myou can use builtins\u001b[39m\u001b[33m'\u001b[39m\u001b[33m open.\u001b[39m\u001b[33m\"\u001b[39m\n\u001b[32m    324\u001b[39m     )\n\u001b[32m--> \u001b[39m\u001b[32m326\u001b[39m \u001b[38;5;28;01mreturn\u001b[39;00m \u001b[43mio_open\u001b[49m\u001b[43m(\u001b[49m\u001b[43mfile\u001b[49m\u001b[43m,\u001b[49m\u001b[43m \u001b[49m\u001b[43m*\u001b[49m\u001b[43margs\u001b[49m\u001b[43m,\u001b[49m\u001b[43m \u001b[49m\u001b[43m*\u001b[49m\u001b[43m*\u001b[49m\u001b[43mkwargs\u001b[49m\u001b[43m)\u001b[49m\n",
      "\u001b[31mPermissionError\u001b[39m: [Errno 13] Permission denied: 'zz.txt'"
     ]
    }
   ],
   "source": [
    "with open('zz.txt','w') as file:   # see after change the permission if we try to do any change in that file i won't allow as to do anything\n",
    "    file.write(\"i love myself\")"
   ]
  }
 ],
 "metadata": {
  "kernelspec": {
   "display_name": "Python 3",
   "language": "python",
   "name": "python3"
  },
  "language_info": {
   "codemirror_mode": {
    "name": "ipython",
    "version": 3
   },
   "file_extension": ".py",
   "mimetype": "text/x-python",
   "name": "python",
   "nbconvert_exporter": "python",
   "pygments_lexer": "ipython3",
   "version": "3.12.0"
  }
 },
 "nbformat": 4,
 "nbformat_minor": 5
}

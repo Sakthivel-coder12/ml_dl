{
 "cells": [
  {
   "cell_type": "code",
   "execution_count": 25,
   "id": "2f946d7e",
   "metadata": {},
   "outputs": [
    {
     "data": {
      "text/plain": [
       "'Welcome to the python'"
      ]
     },
     "execution_count": 25,
     "metadata": {},
     "output_type": "execute_result"
    }
   ],
   "source": [
    "def wel():\n",
    "    return \"Welcome to the python\"\n",
    "wel()"
   ]
  },
  {
   "cell_type": "code",
   "execution_count": 26,
   "id": "bdb83c9e",
   "metadata": {},
   "outputs": [
    {
     "data": {
      "text/plain": [
       "'Welcome to the python'"
      ]
     },
     "execution_count": 26,
     "metadata": {},
     "output_type": "execute_result"
    }
   ],
   "source": [
    "wel1 = wel   # here we have created the copy of that \"wel\" function into wel1\n",
    "del wel    # here we actually deleting the wel funtion \n",
    "wel1()   #After deleting the function \"wel\" we are calling the \"wel1\" which has it copy ,if we try to call the original function we can't do that..."
   ]
  },
  {
   "cell_type": "code",
   "execution_count": 32,
   "id": "3eee7857",
   "metadata": {},
   "outputs": [
    {
     "name": "stdout",
     "output_type": "stream",
     "text": [
      "i am sakthivel..!\n",
      "welcome\n",
      "i love to code\n"
     ]
    }
   ],
   "source": [
    "##closure\n",
    "\n",
    "def main_welcome():\n",
    "    msg = \"welcome\"  ## Here we see that anything which is defined outside the submethod can me accessed inside the sub-method also\n",
    "    def subwelcome():\n",
    "        print(\"i am sakthivel..!\")\n",
    "        print(msg)\n",
    "        print(\"i love to code\")\n",
    "    return subwelcome()\n",
    "main_welcome()"
   ]
  },
  {
   "cell_type": "code",
   "execution_count": 33,
   "id": "65da705a",
   "metadata": {},
   "outputs": [
    {
     "name": "stdout",
     "output_type": "stream",
     "text": [
      "i am sakthivel..!\n",
      "I am saga\n",
      "i love to code\n"
     ]
    }
   ],
   "source": [
    "def main_welcome(msg):\n",
    "    def subwelcome():\n",
    "        print(\"i am sakthivel..!\")\n",
    "        print(msg)\n",
    "        print(\"i love to code\")\n",
    "    return subwelcome()\n",
    "main_welcome(\"I am saga\")"
   ]
  },
  {
   "cell_type": "code",
   "execution_count": null,
   "id": "586bef4d",
   "metadata": {},
   "outputs": [
    {
     "name": "stdout",
     "output_type": "stream",
     "text": [
      "i am sakthivel..!\n",
      "sakthivel\n",
      "i love to code\n"
     ]
    }
   ],
   "source": [
    "def main_welcome(msg):\n",
    "    def subwelcome():\n",
    "        print(\"i am sakthivel..!\")\n",
    "        msg(\"sakthivel\") ## now in this case it will act as function , so we can only pass the function to this parameter--> (like print,type,ect... , not the \"hii\" like string)\n",
    "        ##Now in this case the above the msg() will be act as a print function \n",
    "        print(\"i love to code\")\n",
    "    return subwelcome()\n",
    "main_welcome(print)"
   ]
  },
  {
   "cell_type": "code",
   "execution_count": null,
   "id": "92d7387d",
   "metadata": {},
   "outputs": [
    {
     "name": "stdout",
     "output_type": "stream",
     "text": [
      "<class 'int'>\n"
     ]
    }
   ],
   "source": [
    "def main_welcome(fun):\n",
    "    def saga():\n",
    "        s = fun(3232)   # by passing the type as the parameter we would see that fun() function can act as the type now\n",
    "        ## so my passing the parameter to that fun() function we can get the type of the data...!\n",
    "        print(s)\n",
    "    return saga()\n",
    "main_welcome(type)"
   ]
  },
  {
   "cell_type": "code",
   "execution_count": 44,
   "id": "72c124ce",
   "metadata": {},
   "outputs": [
    {
     "name": "stdout",
     "output_type": "stream",
     "text": [
      "5\n"
     ]
    }
   ],
   "source": [
    "def count_lst(count,lst):\n",
    "    def saga():\n",
    "        s = count(lst)\n",
    "        print(s)\n",
    "    return saga()\n",
    "count_lst(len,[1,2,3,4,5])"
   ]
  },
  {
   "cell_type": "code",
   "execution_count": null,
   "id": "7f39d1e6",
   "metadata": {},
   "outputs": [
    {
     "name": "stdout",
     "output_type": "stream",
     "text": [
      "I love tamil...!\n"
     ]
    }
   ],
   "source": [
    "## Decorator\n",
    "\n",
    "def main_welcome(func):\n",
    "    def sub_welcome():\n",
    "        func()\n",
    "        print(\"i am sakthivel...!\")\n",
    "    return sub_welcome()\n",
    "\n",
    "\n",
    "\n",
    "## now we create an custom method...!\n",
    "def course_intro():\n",
    "    print(\"I love tamil...!\")        ## so this how we can all the decorator explicitly\n",
    "course_intro()"
   ]
  },
  {
   "cell_type": "code",
   "execution_count": 55,
   "id": "705098a2",
   "metadata": {},
   "outputs": [
    {
     "name": "stdout",
     "output_type": "stream",
     "text": [
      "I love tamil...!\n",
      "i am sakthivel...!\n"
     ]
    }
   ],
   "source": [
    "main_welcome(course_intro)"
   ]
  },
  {
   "cell_type": "code",
   "execution_count": 56,
   "id": "558dd971",
   "metadata": {},
   "outputs": [
    {
     "name": "stdout",
     "output_type": "stream",
     "text": [
      "I love tamil...!\n",
      "i am sakthivel...!\n"
     ]
    }
   ],
   "source": [
    "## we can call the decorator inplicitly \n",
    "@main_welcome\n",
    "def course_intro():\n",
    "    print(\"I love tamil...!\") "
   ]
  },
  {
   "cell_type": "markdown",
   "id": "5d115297",
   "metadata": {},
   "source": [
    "## Let us see some egs with Decorator..."
   ]
  },
  {
   "cell_type": "code",
   "execution_count": 58,
   "id": "368b667f",
   "metadata": {},
   "outputs": [],
   "source": [
    "def mydecorator(func):\n",
    "    def wrapper():\n",
    "        print(\"The sakthivel is good boy...!\")\n",
    "        func()\n",
    "        print(\"I am sakthivel...!\")\n",
    "    return wrapper\n"
   ]
  },
  {
   "cell_type": "code",
   "execution_count": 59,
   "id": "7ff7be1b",
   "metadata": {},
   "outputs": [
    {
     "name": "stdout",
     "output_type": "stream",
     "text": [
      "The sakthivel is good boy...!\n",
      "hello everyone\n",
      "I am sakthivel...!\n"
     ]
    }
   ],
   "source": [
    "@mydecorator\n",
    "def say_hello():\n",
    "    print(\"hello everyone\")\n",
    "say_hello()"
   ]
  },
  {
   "cell_type": "code",
   "execution_count": 62,
   "id": "28ae02ce",
   "metadata": {},
   "outputs": [
    {
     "name": "stdout",
     "output_type": "stream",
     "text": [
      "hello\n",
      "hello\n",
      "hello\n"
     ]
    }
   ],
   "source": [
    "## Decorator with arguments...\n",
    "def repeat(n):\n",
    "    def mydecorator(func):\n",
    "        def wrapper(*args,**kwargs):\n",
    "            for _ in range(n):\n",
    "                func(*args,**kwargs)\n",
    "        return wrapper\n",
    "    return mydecorator\n",
    "\n",
    "@repeat(3)\n",
    "def say_hello():\n",
    "    print(\"hello\")\n",
    "say_hello()"
   ]
  },
  {
   "cell_type": "code",
   "execution_count": 63,
   "id": "5a2b714e",
   "metadata": {},
   "outputs": [
    {
     "name": "stdout",
     "output_type": "stream",
     "text": [
      "hello\n",
      "hello\n",
      "hello\n"
     ]
    }
   ],
   "source": [
    "from functools import wraps\n",
    "\n",
    "def repeat(n):\n",
    "    def mydecorator(func):\n",
    "        @wraps(func)\n",
    "        def wrapper(*args, **kwargs):\n",
    "            for _ in range(n):\n",
    "                func(*args, **kwargs)\n",
    "        return wrapper\n",
    "    return mydecorator\n",
    "\n",
    "@repeat(3)\n",
    "def say_hello():\n",
    "    print(\"hello\")\n",
    "\n",
    "say_hello()\n"
   ]
  }
 ],
 "metadata": {
  "kernelspec": {
   "display_name": "Python 3",
   "language": "python",
   "name": "python3"
  },
  "language_info": {
   "codemirror_mode": {
    "name": "ipython",
    "version": 3
   },
   "file_extension": ".py",
   "mimetype": "text/x-python",
   "name": "python",
   "nbconvert_exporter": "python",
   "pygments_lexer": "ipython3",
   "version": "3.12.0"
  }
 },
 "nbformat": 4,
 "nbformat_minor": 5
}

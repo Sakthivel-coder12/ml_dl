{
 "cells": [
  {
   "cell_type": "code",
   "execution_count": 21,
   "id": "84f75734",
   "metadata": {},
   "outputs": [
    {
     "name": "stdout",
     "output_type": "stream",
     "text": [
      "4\n",
      "saga\n",
      "s555\n",
      "2030\n",
      "yes\n"
     ]
    }
   ],
   "source": [
    "class Cars:\n",
    "    def __init__(self,windows,make,model,year):\n",
    "        self.windows = windows\n",
    "        self.make = make\n",
    "        self.model = model\n",
    "        self.year = year\n",
    "\n",
    "    def dis(self):\n",
    "        print(self.windows)\n",
    "        print(self.make)\n",
    "        print(self.model)\n",
    "        print(self.year)\n",
    "class tata(Cars):\n",
    "    def __init__(self,windows,make,model,year,self_driving):\n",
    "        super().__init__(windows,make,model,year)\n",
    "        self.self_driving = self_driving\n",
    "        \n",
    "    def display(self):\n",
    "        print(self.self_driving)\n",
    "\n",
    "t1 = tata(4,\"saga\",\"s555\",2030,\"yes\")\n",
    "t1.dis()\n",
    "t1.display()"
   ]
  },
  {
   "cell_type": "code",
   "execution_count": 22,
   "id": "f73bddfa",
   "metadata": {},
   "outputs": [
    {
     "data": {
      "text/plain": [
       "('The sss', 'The sss', 'The love')"
      ]
     },
     "execution_count": 22,
     "metadata": {},
     "output_type": "execute_result"
    }
   ],
   "source": [
    "class Animal:\n",
    "    def __init__(self,name):\n",
    "        self.name = name\n",
    "    def speak(self):\n",
    "        print(f\"The animal spaek \")\n",
    "class pet:\n",
    "    def __init__(self,owner):\n",
    "        self.owner = owner\n",
    "\n",
    "class dog(Animal,pet):\n",
    "    def __init__(self,name,owner,tdog):\n",
    "        Animal.__init__(self,name)\n",
    "        pet.__init__(self,owner)\n",
    "        self.tdog = tdog\n",
    "    def speak(self):\n",
    "        return f\"The {self.name}\",f\"The {self.owner}\",f\"The {self.tdog}\"\n",
    "d1 = dog('sss','sss','love')\n",
    "d1.speak()"
   ]
  },
  {
   "cell_type": "markdown",
   "id": "a3f312f2",
   "metadata": {},
   "source": [
    "###POLYMORPHISM"
   ]
  },
  {
   "cell_type": "code",
   "execution_count": 23,
   "id": "5de4dfa7",
   "metadata": {},
   "outputs": [
    {
     "name": "stdout",
     "output_type": "stream",
     "text": [
      "woof...!\n",
      "meow...!\n",
      "meow...!\n"
     ]
    }
   ],
   "source": [
    "\n",
    "class Animal:\n",
    "    def speak(self):\n",
    "        return \"Sound of the animal\"\n",
    "class Dog(Animal):\n",
    "    def speak(self):\n",
    "        return \"woof...!\"\n",
    "class Cat(Animal):\n",
    "    def speak(self):\n",
    "        return \"meow...!\"\n",
    "\n",
    "## function that demonstrate the polymorphism\n",
    "\n",
    "def animal_speak(animal):\n",
    "    print(animal.speak())\n",
    "d1 = Dog()\n",
    "print(d1.speak())\n",
    "c1 = Cat()\n",
    "print(c1.speak())      # class that demonstrate the polymorphism\n",
    "animal_speak(c1)    \n",
    "\n"
   ]
  },
  {
   "cell_type": "code",
   "execution_count": 24,
   "id": "647e7e34",
   "metadata": {},
   "outputs": [
    {
     "name": "stdout",
     "output_type": "stream",
     "text": [
      "The area is 100\n",
      "The area is 78.5\n"
     ]
    }
   ],
   "source": [
    "## polymorphism with the functio and method \n",
    "\n",
    "\n",
    "class shape:\n",
    "    def area(self):\n",
    "        return \"The area can be override here\"\n",
    "class rectangle(shape):\n",
    "    def __init__(self,weidth,height):\n",
    "        self.weidth = weidth\n",
    "        self.height = height\n",
    "    def area(self):\n",
    "        return self.weidth * self.height\n",
    "class circle(shape):\n",
    "    def __init__(self,radius):\n",
    "        self.radius = radius\n",
    "    def area(self):\n",
    "        return 3.14*(self.radius**2)\n",
    "#function that demonstrate the polymorphism\n",
    "def find_area(a):\n",
    "    print(f\"The area is {a.area()}\")\n",
    "\n",
    "reac = rectangle(10,10)\n",
    "cir = circle(5)\n",
    "\n",
    "find_area(reac)\n",
    "find_area(cir)"
   ]
  },
  {
   "cell_type": "markdown",
   "id": "b22b1543",
   "metadata": {},
   "source": [
    "### POLYMORPHISM WITH THE HELP OF THE INTERFACE (MEANS AN ABSTRACT CLASS):"
   ]
  },
  {
   "cell_type": "code",
   "execution_count": 28,
   "id": "c03bef1d",
   "metadata": {},
   "outputs": [
    {
     "name": "stdout",
     "output_type": "stream",
     "text": [
      "('The car is made in ', 2025)\n",
      "('The name of the motorcycle is ', 'enfield', 1992)\n"
     ]
    }
   ],
   "source": [
    "from  abc import ABC,abstractmethod\n",
    "\n",
    "class vechicle(ABC):\n",
    "    @abstractmethod\n",
    "    def start_engine(self):\n",
    "        pass\n",
    "class car(vechicle):\n",
    "    def __init__(self,year):\n",
    "        self.year = year\n",
    "    def start_engine(self):\n",
    "        return \"The car is made in \",self.year\n",
    "class motorcycle(vechicle):\n",
    "    def __init__(self,name,year):\n",
    "        self.name = name\n",
    "        self.year = year\n",
    "    def start_engine(self):\n",
    "        return \"The name of the motorcycle is \",self.name,self.year\n",
    "## Function that demonstrate the polymorphism \n",
    "def start_vechicle(v):\n",
    "    print(v.start_engine())\n",
    "\n",
    "c1 = car(2025)\n",
    "m1 = motorcycle('enfield',1992)\n",
    "\n",
    "start_vechicle(c1)\n",
    "start_vechicle(m1)\n"
   ]
  },
  {
   "cell_type": "markdown",
   "id": "7edac64d",
   "metadata": {},
   "source": [
    "### Duck method in the polymorphism \n",
    "In Python, it doesn't matter what a class inherits from — if it has the required method, you can use it!\n",
    "\n",
    "This is different from strict languages like Java or C++ where the object must inherit from a base class or implement an interface."
   ]
  },
  {
   "cell_type": "code",
   "execution_count": 29,
   "id": "8db4604b",
   "metadata": {},
   "outputs": [
    {
     "name": "stdout",
     "output_type": "stream",
     "text": [
      "woof....!\n",
      "meow...!\n",
      "vromm...!\n"
     ]
    }
   ],
   "source": [
    "class dog:\n",
    "    def speak(self):\n",
    "        return \"woof....!\"\n",
    "class cat:\n",
    "    def speak(self):\n",
    "        return \"meow...!\"\n",
    "class car:\n",
    "    def speak(self):\n",
    "        return \"vromm...!\"\n",
    "def aniaml_speak(animal):\n",
    "    print(f\"The speak is {animal.speak()}\")\n",
    "\n",
    "d = dog()\n",
    "c = cat()\n",
    "c1 = car()\n",
    "\n",
    "animal_speak(d)\n",
    "animal_speak(c)\n",
    "animal_speak(c1)"
   ]
  },
  {
   "cell_type": "code",
   "execution_count": null,
   "id": "af714190",
   "metadata": {},
   "outputs": [
    {
     "ename": "TypeError",
     "evalue": "area() takes 1 positional argument but 3 were given",
     "output_type": "error",
     "traceback": [
      "\u001b[31m---------------------------------------------------------------------------\u001b[39m",
      "\u001b[31mTypeError\u001b[39m                                 Traceback (most recent call last)",
      "\u001b[36mCell\u001b[39m\u001b[36m \u001b[39m\u001b[32mIn[30]\u001b[39m\u001b[32m, line 8\u001b[39m\n\u001b[32m      5\u001b[39m \u001b[38;5;28;01mdef\u001b[39;00m\u001b[38;5;250m \u001b[39m\u001b[34marea\u001b[39m(a):\n\u001b[32m      6\u001b[39m     \u001b[38;5;28mprint\u001b[39m(\u001b[32m3.14\u001b[39m*(a**\u001b[32m2\u001b[39m))\n\u001b[32m----> \u001b[39m\u001b[32m8\u001b[39m \u001b[43marea\u001b[49m\u001b[43m(\u001b[49m\u001b[32;43m1\u001b[39;49m\u001b[43m,\u001b[49m\u001b[32;43m2\u001b[39;49m\u001b[43m,\u001b[49m\u001b[32;43m1\u001b[39;49m\u001b[43m)\u001b[49m\n\u001b[32m      9\u001b[39m area(\u001b[32m1\u001b[39m,\u001b[32m2\u001b[39m)\n\u001b[32m     10\u001b[39m area(\u001b[32m5\u001b[39m)\n",
      "\u001b[31mTypeError\u001b[39m: area() takes 1 positional argument but 3 were given"
     ]
    }
   ],
   "source": [
    "def area(a,b,c):\n",
    "    print(a*b*c)\n",
    "def area(a,b):\n",
    "    print(a*b)\n",
    "def area(a):   \n",
    "    print(3.14*(a**2))\n",
    "\n",
    "area(1,2,1)\n",
    "area(1,2)\n",
    "area(5)                  ## HERE WE CAN'T DO THE FUNCTION OVERLOADING , BUT WE CAN ACHIEVE THAT THROUGH THE *args, *kwargs as parameter rememeber the previous one : "
   ]
  },
  {
   "cell_type": "code",
   "execution_count": 34,
   "id": "b73de11b",
   "metadata": {},
   "outputs": [
    {
     "name": "stdout",
     "output_type": "stream",
     "text": [
      "(4, 6)\n"
     ]
    }
   ],
   "source": [
    "class Point:\n",
    "    def __init__(self, x, y):\n",
    "        self.x = x\n",
    "        self.y = y\n",
    "\n",
    "    def __add__(self, other):  # Overload + operator\n",
    "        return Point(self.x + other.x, self.y + other.y)\n",
    "\n",
    "    def __str__(self):\n",
    "        return f\"({self.x}, {self.y})\"\n",
    "\n",
    "p1 = Point(1, 2)\n",
    "p2 = Point(3, 4)\n",
    "print(p1 + p2)  # ➝ (4, 6)\n"
   ]
  },
  {
   "cell_type": "code",
   "execution_count": null,
   "id": "e7ab52d0",
   "metadata": {},
   "outputs": [
    {
     "name": "stdout",
     "output_type": "stream",
     "text": [
      "(3, 4)\n"
     ]
    }
   ],
   "source": [
    "class Point:\n",
    "    def __init__(self, x, y):\n",
    "        self.x = x\n",
    "        self.y = y\n",
    "    \n",
    "    def __str__(self):\n",
    "        return f\"({self.x}, {self.y})\"\n",
    "\n",
    "    def __repr__(self):\n",
    "        return f\"Point(x={self.x}, y={self.y})\"\n",
    "p = Point(3,4)\n",
    "p1 = Point(3,1)\n",
    "print(p)\n"
   ]
  },
  {
   "cell_type": "code",
   "execution_count": null,
   "id": "e1bbfb13",
   "metadata": {},
   "outputs": [
    {
     "name": "stdout",
     "output_type": "stream",
     "text": [
      "2\n"
     ]
    }
   ],
   "source": [
    "class sk:\n",
    "    def __init__(self,m1,m2):\n",
    "        self.__m1 = m1\n",
    "        self.__m2 = m2\n",
    "def display(self):\n",
    "    print(self._sk__m1)   # to access the private variable outside the class\n",
    "\n",
    "n = sk(2,3)\n",
    "display(n)"
   ]
  },
  {
   "cell_type": "code",
   "execution_count": 60,
   "id": "ec78ab2d",
   "metadata": {},
   "outputs": [
    {
     "name": "stdout",
     "output_type": "stream",
     "text": [
      "Alice\n"
     ]
    },
    {
     "ename": "AttributeError",
     "evalue": "'Person' object has no attribute '_Person__name'",
     "output_type": "error",
     "traceback": [
      "\u001b[31m---------------------------------------------------------------------------\u001b[39m",
      "\u001b[31mAttributeError\u001b[39m                            Traceback (most recent call last)",
      "\u001b[36mCell\u001b[39m\u001b[36m \u001b[39m\u001b[32mIn[60]\u001b[39m\u001b[32m, line 20\u001b[39m\n\u001b[32m     18\u001b[39m \u001b[38;5;28mprint\u001b[39m(person.name)    \u001b[38;5;66;03m# Output: Alice\u001b[39;00m\n\u001b[32m     19\u001b[39m \u001b[38;5;28;01mdel\u001b[39;00m person.name       \u001b[38;5;66;03m# Invokes the deleter\u001b[39;00m\n\u001b[32m---> \u001b[39m\u001b[32m20\u001b[39m \u001b[38;5;28mprint\u001b[39m(\u001b[43mperson\u001b[49m\u001b[43m.\u001b[49m\u001b[43mname\u001b[49m)    \u001b[38;5;66;03m# Raises AttributeError\u001b[39;00m\n",
      "\u001b[36mCell\u001b[39m\u001b[36m \u001b[39m\u001b[32mIn[60]\u001b[39m\u001b[32m, line 7\u001b[39m, in \u001b[36mPerson.name\u001b[39m\u001b[34m(self)\u001b[39m\n\u001b[32m      5\u001b[39m \u001b[38;5;129m@property\u001b[39m\n\u001b[32m      6\u001b[39m \u001b[38;5;28;01mdef\u001b[39;00m\u001b[38;5;250m \u001b[39m\u001b[34mname\u001b[39m(\u001b[38;5;28mself\u001b[39m):\n\u001b[32m----> \u001b[39m\u001b[32m7\u001b[39m     \u001b[38;5;28;01mreturn\u001b[39;00m \u001b[38;5;28;43mself\u001b[39;49m\u001b[43m.\u001b[49m\u001b[43m__name\u001b[49m\n",
      "\u001b[31mAttributeError\u001b[39m: 'Person' object has no attribute '_Person__name'"
     ]
    }
   ],
   "source": [
    "class Person:\n",
    "    def __init__(self, name):\n",
    "        self.__name = name\n",
    "\n",
    "    @property\n",
    "    def name(self):\n",
    "        return self.__name\n",
    "\n",
    "    @name.setter\n",
    "    def name(self, value):\n",
    "        self.__name = value\n",
    "\n",
    "    @name.deleter\n",
    "    def name(self):\n",
    "        del self.__name\n",
    "\n",
    "person = Person(\"Alice\")\n",
    "print(person.name)    # Output: Alice\n",
    "del person.name       # Invokes the deleter\n",
    "print(person.name)    # Raises AttributeError"
   ]
  },
  {
   "cell_type": "code",
   "execution_count": null,
   "id": "f7a66cd6",
   "metadata": {},
   "outputs": [
    {
     "name": "stdout",
     "output_type": "stream",
     "text": [
      "john\n",
      "10\n",
      "nithi\n"
     ]
    }
   ],
   "source": [
    "class person:\n",
    "    def __init__(self,name,age):\n",
    "        self.__name = name\n",
    "        self.__age = age\n",
    "    def get_name(self):\n",
    "        return self.__name\n",
    "    def set_name(self,value):\n",
    "        self.__name = value\n",
    "    def get_age(self):\n",
    "        return self.__age\n",
    "    def set_age(self,age):\n",
    "        if self.__age > 0:\n",
    "            self.__age = age\n",
    "\n",
    "        else:\n",
    "            return \"Age cannot be negative\"-\n",
    "p = person('john',10)\n",
    "print(p.get_name())\n",
    "print(p.get_age())\n",
    "p.set_name('nithi')\n",
    "print(p.get_name())"
   ]
  },
  {
   "cell_type": "markdown",
   "id": "b46072fd",
   "metadata": {},
   "source": [
    "## The Inheritance Assignments"
   ]
  },
  {
   "cell_type": "code",
   "execution_count": 10,
   "id": "32a9087c",
   "metadata": {},
   "outputs": [
    {
     "name": "stdout",
     "output_type": "stream",
     "text": [
      "Hii baby\n",
      "The name is sakthivel\n"
     ]
    }
   ],
   "source": [
    "class Animal:\n",
    "    def __init__(self,name,species):\n",
    "        self.name = name\n",
    "        self.species = species\n",
    "    def walk(self):\n",
    "        print(f\"The name is {self.name}\")\n",
    "class Athelte(Animal):\n",
    "    def walk(self):\n",
    "        print(\"Hii baby\")\n",
    "        super().walk()\n",
    "s = Athelte(\"sakthivel\",\"human\")\n",
    "s.walk()\n",
    "\n"
   ]
  },
  {
   "cell_type": "code",
   "execution_count": 16,
   "id": "2b1a3a07",
   "metadata": {},
   "outputs": [
    {
     "name": "stdout",
     "output_type": "stream",
     "text": [
      "it is A\n",
      "it's c\n",
      "it's b\n",
      "it's d\n"
     ]
    }
   ],
   "source": [
    "class a:  ## It's an diamond problem \n",
    "    def show(self):\n",
    "        print(\"it is A\")\n",
    "class b(a):\n",
    "    def show(self):\n",
    "        super().show()\n",
    "        print(\"it's b\")\n",
    "class c(a):\n",
    "    def show(self):\n",
    "        super().show()\n",
    "        print(\"it's c\")\n",
    "class d(b,c):\n",
    "    def show(self):\n",
    "        super().show()\n",
    "        print(\"it's d\")\n",
    "m = d()\n",
    "m.show()"
   ]
  },
  {
   "cell_type": "code",
   "execution_count": 31,
   "id": "cebc5dbc",
   "metadata": {},
   "outputs": [
    {
     "name": "stdout",
     "output_type": "stream",
     "text": [
      "78.5\n",
      "25\n",
      "25\n"
     ]
    }
   ],
   "source": [
    "class shape:\n",
    "    def area(self):\n",
    "        pass\n",
    "\n",
    "class circle(shape):\n",
    "    def __init__(self,num):\n",
    "        self.num = num\n",
    "    def area(self):\n",
    "        return 3.14*(self.num**2)\n",
    "    \n",
    "\n",
    "class square(shape):\n",
    "    def __init__(self,num1):\n",
    "        self.num1 = num1\n",
    "\n",
    "    def area(self):\n",
    "        return self.num1*self.num1\n",
    "    \n",
    "\n",
    "def findarea(n):\n",
    "    print(n.area())\n",
    "c1 = circle(5)\n",
    "c2 = square(5)\n",
    "findarea(c1)\n",
    "findarea(c2)\n",
    "findarea(square(5))"
   ]
  }
 ],
 "metadata": {
  "kernelspec": {
   "display_name": "Python 3",
   "language": "python",
   "name": "python3"
  },
  "language_info": {
   "codemirror_mode": {
    "name": "ipython",
    "version": 3
   },
   "file_extension": ".py",
   "mimetype": "text/x-python",
   "name": "python",
   "nbconvert_exporter": "python",
   "pygments_lexer": "ipython3",
   "version": "3.12.0"
  }
 },
 "nbformat": 4,
 "nbformat_minor": 5
}

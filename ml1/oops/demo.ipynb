{
 "cells": [
  {
   "cell_type": "code",
   "execution_count": null,
   "id": "3b15a58c",
   "metadata": {},
   "outputs": [
    {
     "data": {
      "text/plain": [
       "150"
      ]
     },
     "execution_count": 29,
     "metadata": {},
     "output_type": "execute_result"
    }
   ],
   "source": [
    "import numpy as np \n",
    "x = [20,25,30,35,40]\n",
    "y = [45,37,28,22,18]\n",
    "len(x)\n",
    "sum(x)             \n"
   ]
  },
  {
   "cell_type": "code",
   "execution_count": 39,
   "id": "5fe4ea65",
   "metadata": {},
   "outputs": [
    {
     "name": "stdout",
     "output_type": "stream",
     "text": [
      "The intercept is : 0.00\n",
      "The slope is 2.00\n"
     ]
    }
   ],
   "source": [
    "x = [1,2,3,4,5]\n",
    "y = [2,4,6,8,10]\n",
    "xy = sum([(x[i]*y[i]) for i in range(len(x))])\n",
    "x2 = sum([i**2 for i in x])\n",
    "slope = ((len(x)*xy) - (sum(x)*sum(y)))/((len(x)*(x2)) - (sum(x)**2))\n",
    "intercept = (sum(y) - slope*(sum(x)))/len(x)\n",
    "print(f\"The intercept is : {intercept:.2f}\")\n",
    "print(f\"The slope is {slope:.2f}\")"
   ]
  }
 ],
 "metadata": {
  "kernelspec": {
   "display_name": "Python 3",
   "language": "python",
   "name": "python3"
  },
  "language_info": {
   "codemirror_mode": {
    "name": "ipython",
    "version": 3
   },
   "file_extension": ".py",
   "mimetype": "text/x-python",
   "name": "python",
   "nbconvert_exporter": "python",
   "pygments_lexer": "ipython3",
   "version": "3.12.0"
  }
 },
 "nbformat": 4,
 "nbformat_minor": 5
}

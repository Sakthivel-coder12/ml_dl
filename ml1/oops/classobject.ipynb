{
 "cells": [
  {
   "cell_type": "code",
   "execution_count": 1,
   "id": "9f81460d",
   "metadata": {},
   "outputs": [
    {
     "name": "stdout",
     "output_type": "stream",
     "text": [
      "india\n",
      "r555\n"
     ]
    }
   ],
   "source": [
    "class car:\n",
    "    def __init__(self,make,model,year):\n",
    "        self.make = make\n",
    "        self.model = model\n",
    "        self.year = year\n",
    "    \n",
    "car1 = car('india','s555',2025)\n",
    "car2 = car('england','r555',2030)\n",
    "print(car1.make)\n",
    "print(car2.model)"
   ]
  },
  {
   "cell_type": "code",
   "execution_count": 3,
   "id": "cd838899",
   "metadata": {},
   "outputs": [
    {
     "name": "stdout",
     "output_type": "stream",
     "text": [
      "india\n",
      "r555\n",
      "The car engine is started india , s555,2025\n",
      "The car engine is started england , r555,2030\n"
     ]
    }
   ],
   "source": [
    "class car:\n",
    "    def __init__(self,make,model,year):\n",
    "        self.make = make\n",
    "        self.model = model\n",
    "        self.year = year\n",
    "    def start_engine(self):\n",
    "        print(f\"The car engine is started {self.make} , {self.model},{self.year}\")\n",
    "\n",
    "    \n",
    "car1 = car('india','s555',2025)\n",
    "car2 = car('england','r555',2030)\n",
    "print(car1.make)\n",
    "print(car2.model)\n",
    "\n",
    "car1.start_engine()\n",
    "car2.start_engine()"
   ]
  },
  {
   "cell_type": "code",
   "execution_count": 2,
   "id": "5636bfec",
   "metadata": {},
   "outputs": [
    {
     "data": {
      "text/plain": [
       "('nithiya', 'weds', 'sakthivel')"
      ]
     },
     "execution_count": 2,
     "metadata": {},
     "output_type": "execute_result"
    }
   ],
   "source": [
    "class student:\n",
    "    def __init__(self,name,age):\n",
    "        self.name = name\n",
    "        self.age = age\n",
    "student1 = student('nithiya',19)\n",
    "student2 = student('sakthivel',19)\n",
    "\n",
    "student1.name,\"weds\",student2.name"
   ]
  },
  {
   "cell_type": "code",
   "execution_count": 3,
   "id": "623f1caf",
   "metadata": {},
   "outputs": [],
   "source": [
    "class bankaccount:\n",
    "    def __init__(self,acc_no,bal):\n",
    "        self.account_number = acc_no\n",
    "        self.balance = bal"
   ]
  },
  {
   "cell_type": "code",
   "execution_count": 6,
   "id": "b60e5343",
   "metadata": {},
   "outputs": [
    {
     "name": "stdout",
     "output_type": "stream",
     "text": [
      "The car engine gets starts\n"
     ]
    }
   ],
   "source": [
    "class Car:\n",
    "    def __init__(self,make,model,year):\n",
    "        self.make = make\n",
    "        self.model = model\n",
    "        self.year = year\n",
    "    def start_engine(self):\n",
    "        print(\"The car engine gets starts\")\n",
    "c1 = Car('tata','S444',2025)\n",
    "c1.start_engine()"
   ]
  },
  {
   "cell_type": "code",
   "execution_count": 11,
   "id": "9f587599",
   "metadata": {},
   "outputs": [
    {
     "name": "stdout",
     "output_type": "stream",
     "text": [
      "The amount sucessfully deposited...!!!\n",
      "Withdrawal successfully done...!!!\n",
      "The balance is 1500\n"
     ]
    }
   ],
   "source": [
    "class bankaccount:\n",
    "    def __init__(self,accno,bal):\n",
    "        self.__accno = accno\n",
    "        self.__bal = bal\n",
    "    def desposite(self,amt):\n",
    "        self.__bal = self.__bal + amt\n",
    "        print(\"The amount sucessfully deposited...!!!\")\n",
    "    def withdraw(self,amt):\n",
    "        if self.__bal >= amt:\n",
    "            self.__bal = self.__bal - amt\n",
    "            print(\"Withdrawal successfully done...!!!\")\n",
    "            print(f\"The balance is {self.__bal}\")\n",
    "        else:\n",
    "            print(\"Insufficient Balance...!!!\")\n",
    "\n",
    "p1 = bankaccount(42575799106,1000)\n",
    "p1.desposite(1000)\n",
    "p1.withdraw(500)"
   ]
  },
  {
   "cell_type": "code",
   "execution_count": 12,
   "id": "644b1eee",
   "metadata": {},
   "outputs": [
    {
     "name": "stdout",
     "output_type": "stream",
     "text": [
      "The name is sakthivel\n",
      "The age is 19\n",
      "The emplyee id is 23BCA0092\n"
     ]
    }
   ],
   "source": [
    "class person:\n",
    "    def __init__(self,name,age):\n",
    "        self.name = name\n",
    "        self.age = age\n",
    "class employee(person):\n",
    "    def __init__(self,name,age,employee_id):\n",
    "        super().__init__(name,age)\n",
    "        self.employee_id = employee_id\n",
    "    def display(self):\n",
    "        print(f\"The name is {self.name}\")\n",
    "        print(f\"The age is {self.age}\")\n",
    "        print(f\"The emplyee id is {self.employee_id}\")\n",
    "e1 = employee('sakthivel',19,\"23BCA0092\")\n",
    "e1.display()"
   ]
  },
  {
   "cell_type": "code",
   "execution_count": 24,
   "id": "a2d43d13",
   "metadata": {},
   "outputs": [
    {
     "name": "stdout",
     "output_type": "stream",
     "text": [
      "The name is sakthivel\n",
      " The age is 19\n",
      " The emplyee id is 23BCA0092\n",
      "\n",
      "The name is nithiya\n",
      " The age is 19\n",
      " The emplyee id is 23MSC0032\n",
      "\n"
     ]
    }
   ],
   "source": [
    "## Mehtod overrideing: Polymorphism\n",
    "\n",
    "class person:\n",
    "    def __init__(self,name,age):\n",
    "        self.name = name\n",
    "        self.age = age\n",
    "class employee(person):\n",
    "    def __init__(self,name,age,employee_id):\n",
    "        super().__init__(name,age)\n",
    "        self.employee_id = employee_id\n",
    "    def __str__(self):\n",
    "        return f\"The name is {self.name}\\n The age is {self.age}\\n The emplyee id is {self.employee_id}\\n\"\n",
    "e1 = employee('sakthivel',19,\"23BCA0092\")\n",
    "e2 = employee('nithiya',19,'23MSC0032')\n",
    "print(e1)\n",
    "print(e2)"
   ]
  },
  {
   "cell_type": "code",
   "execution_count": null,
   "id": "7379c7ec",
   "metadata": {},
   "outputs": [],
   "source": [
    "# class address:\n",
    "#     def __init__(self,street,city,zipcode):\n",
    "#         self.street = street\n",
    "#         self.city = city\n",
    "#         self.zipcode = zipcode\n",
    "# class person(address):\n"
   ]
  },
  {
   "cell_type": "code",
   "execution_count": 31,
   "id": "e33ebd66",
   "metadata": {},
   "outputs": [
    {
     "data": {
      "text/plain": [
       "3"
      ]
     },
     "execution_count": 31,
     "metadata": {},
     "output_type": "execute_result"
    }
   ],
   "source": [
    "class counter:\n",
    "    count = 0\n",
    "    def __init__(self):\n",
    "        counter.count += 1\n",
    "    @classmethod\n",
    "    def get_count(self):\n",
    "        return self.count\n",
    "o1 = counter()\n",
    "o2 = counter()\n",
    "o3 = counter()\n",
    "\n",
    "counter.get_count()\n"
   ]
  },
  {
   "cell_type": "code",
   "execution_count": 43,
   "id": "e8b2112c",
   "metadata": {},
   "outputs": [
    {
     "data": {
      "text/plain": [
       "2.23606797749979"
      ]
     },
     "execution_count": 43,
     "metadata": {},
     "output_type": "execute_result"
    }
   ],
   "source": [
    "import math\n",
    "class mathoperations:\n",
    "    def __init__(self,num):\n",
    "        self.num = num\n",
    "    @staticmethod\n",
    "    def square_root(num):\n",
    "       return math.sqrt(num)\n",
    "mathoperations.square_root(5)"
   ]
  },
  {
   "cell_type": "code",
   "execution_count": 45,
   "id": "56eaab76",
   "metadata": {},
   "outputs": [
    {
     "name": "stdout",
     "output_type": "stream",
     "text": [
      "1256.0\n",
      "900\n"
     ]
    }
   ],
   "source": [
    "from abc import abstractmethod\n",
    "\n",
    "class shape:\n",
    "    @abstractmethod\n",
    "    def area(self):\n",
    "        pass\n",
    "class circle(shape):\n",
    "    def area(self,r):\n",
    "        return 3.14*(r**2)\n",
    "class square(shape):\n",
    "    def area(self,a):\n",
    "        return a**2\n",
    "a1 = circle()\n",
    "print(a1.area(20))\n",
    "a2 = square()\n",
    "print(a2.area(30))"
   ]
  },
  {
   "cell_type": "code",
   "execution_count": 62,
   "id": "3a57f488",
   "metadata": {},
   "outputs": [
    {
     "name": "stdout",
     "output_type": "stream",
     "text": [
      "6,5\n"
     ]
    }
   ],
   "source": [
    "class vector:\n",
    "    def __init__(self,x,y):\n",
    "        self.x = x\n",
    "        self.y = y\n",
    "    def __add__(self,other):\n",
    "        return vector(self.x + self.y ,other.x + other.y) \n",
    "    def __str__(self):\n",
    "        return f\"{self.x},{self.y}\"\n",
    "a1 = vector(2,4)\n",
    "a2 = vector(4,1)\n",
    "print(a1+a2) "
   ]
  },
  {
   "cell_type": "code",
   "execution_count": 64,
   "id": "ea9fdbfb",
   "metadata": {},
   "outputs": [
    {
     "name": "stdout",
     "output_type": "stream",
     "text": [
      "Insufficient Balance...!!!\n"
     ]
    }
   ],
   "source": [
    "class insufficientbalanceerror(Exception):\n",
    "    pass\n",
    "class bankaccount:\n",
    "    def __init__(self,accno,bal):\n",
    "            self.__accno = accno\n",
    "            self.__bal = bal\n",
    "    def desposite(self,amt):\n",
    "        self.__bal = self.__bal + amt\n",
    "        print(\"The amount sucessfully deposited...!!!\")\n",
    "    def withdraw(self,amt):\n",
    "        if self.__bal >= amt:\n",
    "            self.__bal = self.__bal - amt\n",
    "            print(\"Withdrawal successfully done...!!!\")\n",
    "            print(f\"The balance is {self.__bal}\")\n",
    "        else:\n",
    "            raise insufficientbalanceerror(\"Insufficient Balance...!!!\")\n",
    "a1 = bankaccount(33332,5000)\n",
    "try:\n",
    "    a1.withdraw(100000)\n",
    "except insufficientbalanceerror as i:\n",
    "     print(i)"
   ]
  },
  {
   "cell_type": "code",
   "execution_count": null,
   "id": "d5dc2552",
   "metadata": {},
   "outputs": [
    {
     "name": "stdout",
     "output_type": "stream",
     "text": [
      "sakthivel is good boy\n",
      "sakthivel is intelligent boy\n",
      "nisaga are best\n",
      "An error occurred: name 'undefined_variable' is not defined\n"
     ]
    },
    {
     "ename": "NameError",
     "evalue": "name 'undefined_variable' is not defined",
     "output_type": "error",
     "traceback": [
      "\u001b[31m---------------------------------------------------------------------------\u001b[39m",
      "\u001b[31mNameError\u001b[39m                                 Traceback (most recent call last)",
      "\u001b[36mCell\u001b[39m\u001b[36m \u001b[39m\u001b[32mIn[70]\u001b[39m\u001b[32m, line 21\u001b[39m\n\u001b[32m     19\u001b[39m contents = f.read()\n\u001b[32m     20\u001b[39m \u001b[38;5;28mprint\u001b[39m(contents)\n\u001b[32m---> \u001b[39m\u001b[32m21\u001b[39m \u001b[38;5;28mprint\u001b[39m(\u001b[43mundefined_variable\u001b[49m)\n",
      "\u001b[31mNameError\u001b[39m: name 'undefined_variable' is not defined"
     ]
    }
   ],
   "source": [
    "class FileManager:\n",
    "    def __init__(self, filename, mode):\n",
    "        self.filename = filename\n",
    "        self.mode = mode\n",
    "        self.file = None\n",
    "\n",
    "    def __enter__(self):\n",
    "        self.file = open(self.filename, self.mode)\n",
    "        return self.file\n",
    "\n",
    "    def __exit__(self, exc_type, exc_value, traceback):\n",
    "        if self.file:\n",
    "            self.file.close()\n",
    "        if exc_type:\n",
    "            print(\"An error occurred:\", exc_value)\n",
    "\n",
    "# Usage example\n",
    "with FileManager(\"saga.txt\", \"r\") as f:\n",
    "    contents = f.read()\n",
    "    print(contents)\n",
    "    print(undefined_variable)\n"
   ]
  },
  {
   "cell_type": "code",
   "execution_count": 71,
   "id": "ef990b73",
   "metadata": {},
   "outputs": [
    {
     "name": "stdout",
     "output_type": "stream",
     "text": [
      "sakthivel is good boy\n",
      "sakthivel is intelligent boy\n",
      "nisaga are best\n",
      "An error occurred: name 'undefined_variable' is not defined\n"
     ]
    },
    {
     "ename": "NameError",
     "evalue": "name 'undefined_variable' is not defined",
     "output_type": "error",
     "traceback": [
      "\u001b[31m---------------------------------------------------------------------------\u001b[39m",
      "\u001b[31mNameError\u001b[39m                                 Traceback (most recent call last)",
      "\u001b[36mCell\u001b[39m\u001b[36m \u001b[39m\u001b[32mIn[71]\u001b[39m\u001b[32m, line 22\u001b[39m\n\u001b[32m     20\u001b[39m \u001b[38;5;28mprint\u001b[39m(content)\n\u001b[32m     21\u001b[39m \u001b[38;5;66;03m# Force an error (e.g., undefined variable)\u001b[39;00m\n\u001b[32m---> \u001b[39m\u001b[32m22\u001b[39m \u001b[38;5;28mprint\u001b[39m(\u001b[43mundefined_variable\u001b[49m)  \u001b[38;5;66;03m# This will raise NameError\u001b[39;00m\n",
      "\u001b[31mNameError\u001b[39m: name 'undefined_variable' is not defined"
     ]
    }
   ],
   "source": [
    "class FileManager:\n",
    "    def __init__(self, filename, mode):\n",
    "        self.filename = filename\n",
    "        self.mode = mode\n",
    "        self.file = None\n",
    "\n",
    "    def __enter__(self):\n",
    "        self.file = open(self.filename, self.mode)\n",
    "        return self.file\n",
    "\n",
    "    def __exit__(self, exc_type, exc_value, traceback):\n",
    "        if self.file:\n",
    "            self.file.close()\n",
    "        if exc_type:\n",
    "            print(\"An error occurred:\", exc_value)\n",
    "\n",
    "# Triggering an error inside the 'with' block\n",
    "with FileManager(\"saga.txt\", \"r\") as f:\n",
    "    content = f.read()\n",
    "    print(content)\n",
    "    # Force an error (e.g., undefined variable)\n",
    "    print(undefined_variable)  # This will raise NameError\n"
   ]
  },
  {
   "cell_type": "code",
   "execution_count": null,
   "id": "277e32ea",
   "metadata": {},
   "outputs": [
    {
     "name": "stdout",
     "output_type": "stream",
     "text": [
      "Final result: 14.0\n"
     ]
    }
   ],
   "source": [
    "class Calculator:\n",
    "    def __init__(self, value=0):\n",
    "        self.value = value\n",
    "\n",
    "    def add(self, num):\n",
    "        self.value += num\n",
    "        return self\n",
    "\n",
    "    def subtract(self, num):\n",
    "        self.value -= num\n",
    "        return self\n",
    "\n",
    "    def multiply(self, num):\n",
    "        self.value *= num\n",
    "        return self\n",
    "\n",
    "    def divide(self, num):\n",
    "        if num != 0:\n",
    "            self.value /= num\n",
    "        else:\n",
    "            print(\"Cannot divide by zero.\")\n",
    "        return self\n",
    "\n",
    "    def result(self):\n",
    "        return self.value\n",
    "\n",
    "\n",
    "calc = Calculator()\n",
    "final_result = calc.add(10).subtract(3).multiply(4).divide(2).result()\n",
    "print(\"Final result:\", final_result)\n"
   ]
  }
 ],
 "metadata": {
  "kernelspec": {
   "display_name": "Python 3",
   "language": "python",
   "name": "python3"
  },
  "language_info": {
   "codemirror_mode": {
    "name": "ipython",
    "version": 3
   },
   "file_extension": ".py",
   "mimetype": "text/x-python",
   "name": "python",
   "nbconvert_exporter": "python",
   "pygments_lexer": "ipython3",
   "version": "3.12.0"
  }
 },
 "nbformat": 4,
 "nbformat_minor": 5
}
